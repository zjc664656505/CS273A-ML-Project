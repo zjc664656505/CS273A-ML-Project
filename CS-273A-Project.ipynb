{
  "nbformat": 4,
  "nbformat_minor": 0,
  "metadata": {
    "accelerator": "GPU",
    "colab": {
      "name": "CS 273A Project.ipynb",
      "provenance": [],
      "collapsed_sections": [],
      "machine_shape": "hm"
    },
    "kernelspec": {
      "display_name": "Python 3",
      "language": "python",
      "name": "python3"
    },
    "language_info": {
      "codemirror_mode": {
        "name": "ipython",
        "version": 3
      },
      "file_extension": ".py",
      "mimetype": "text/x-python",
      "name": "python",
      "nbconvert_exporter": "python",
      "pygments_lexer": "ipython3",
      "version": "3.8.5"
    },
    "widgets": {
      "application/vnd.jupyter.widget-state+json": {
        "7c5ea98ae1914ce481a21bc087944b14": {
          "model_module": "@jupyter-widgets/controls",
          "model_name": "HBoxModel",
          "model_module_version": "1.5.0",
          "state": {
            "_dom_classes": [],
            "_model_module": "@jupyter-widgets/controls",
            "_model_module_version": "1.5.0",
            "_model_name": "HBoxModel",
            "_view_count": null,
            "_view_module": "@jupyter-widgets/controls",
            "_view_module_version": "1.5.0",
            "_view_name": "HBoxView",
            "box_style": "",
            "children": [
              "IPY_MODEL_9c2510ab2ad1443989e84256ce599784",
              "IPY_MODEL_2db988afbfaa41dfbc7ffb73303fc2ac",
              "IPY_MODEL_ec5a6c0cd63b47dca12b7b2c0ea9cd00"
            ],
            "layout": "IPY_MODEL_869be4e5771044bd94c5c80ee7a34d1c"
          }
        },
        "9c2510ab2ad1443989e84256ce599784": {
          "model_module": "@jupyter-widgets/controls",
          "model_name": "HTMLModel",
          "model_module_version": "1.5.0",
          "state": {
            "_dom_classes": [],
            "_model_module": "@jupyter-widgets/controls",
            "_model_module_version": "1.5.0",
            "_model_name": "HTMLModel",
            "_view_count": null,
            "_view_module": "@jupyter-widgets/controls",
            "_view_module_version": "1.5.0",
            "_view_name": "HTMLView",
            "description": "",
            "description_tooltip": null,
            "layout": "IPY_MODEL_6979cdb9b1764954b2954f0918611a88",
            "placeholder": "​",
            "style": "IPY_MODEL_22f47cf9a25243b4902245b0dd6c0543",
            "value": "  8%"
          }
        },
        "2db988afbfaa41dfbc7ffb73303fc2ac": {
          "model_module": "@jupyter-widgets/controls",
          "model_name": "FloatProgressModel",
          "model_module_version": "1.5.0",
          "state": {
            "_dom_classes": [],
            "_model_module": "@jupyter-widgets/controls",
            "_model_module_version": "1.5.0",
            "_model_name": "FloatProgressModel",
            "_view_count": null,
            "_view_module": "@jupyter-widgets/controls",
            "_view_module_version": "1.5.0",
            "_view_name": "ProgressView",
            "bar_style": "",
            "description": "",
            "description_tooltip": null,
            "layout": "IPY_MODEL_2404254633fd486cb6c1c959006f7e43",
            "max": 300,
            "min": 0,
            "orientation": "horizontal",
            "style": "IPY_MODEL_5e4f7bcc9d274aff8efeda3928a4f023",
            "value": 24
          }
        },
        "ec5a6c0cd63b47dca12b7b2c0ea9cd00": {
          "model_module": "@jupyter-widgets/controls",
          "model_name": "HTMLModel",
          "model_module_version": "1.5.0",
          "state": {
            "_dom_classes": [],
            "_model_module": "@jupyter-widgets/controls",
            "_model_module_version": "1.5.0",
            "_model_name": "HTMLModel",
            "_view_count": null,
            "_view_module": "@jupyter-widgets/controls",
            "_view_module_version": "1.5.0",
            "_view_name": "HTMLView",
            "description": "",
            "description_tooltip": null,
            "layout": "IPY_MODEL_a412013e5ec947feb61bb0e513ff42dd",
            "placeholder": "​",
            "style": "IPY_MODEL_82775a21894747ea90624655a7ff1086",
            "value": " 24/300 [05:24&lt;1:01:33, 13.38s/it]"
          }
        },
        "869be4e5771044bd94c5c80ee7a34d1c": {
          "model_module": "@jupyter-widgets/base",
          "model_name": "LayoutModel",
          "model_module_version": "1.2.0",
          "state": {
            "_model_module": "@jupyter-widgets/base",
            "_model_module_version": "1.2.0",
            "_model_name": "LayoutModel",
            "_view_count": null,
            "_view_module": "@jupyter-widgets/base",
            "_view_module_version": "1.2.0",
            "_view_name": "LayoutView",
            "align_content": null,
            "align_items": null,
            "align_self": null,
            "border": null,
            "bottom": null,
            "display": null,
            "flex": null,
            "flex_flow": null,
            "grid_area": null,
            "grid_auto_columns": null,
            "grid_auto_flow": null,
            "grid_auto_rows": null,
            "grid_column": null,
            "grid_gap": null,
            "grid_row": null,
            "grid_template_areas": null,
            "grid_template_columns": null,
            "grid_template_rows": null,
            "height": null,
            "justify_content": null,
            "justify_items": null,
            "left": null,
            "margin": null,
            "max_height": null,
            "max_width": null,
            "min_height": null,
            "min_width": null,
            "object_fit": null,
            "object_position": null,
            "order": null,
            "overflow": null,
            "overflow_x": null,
            "overflow_y": null,
            "padding": null,
            "right": null,
            "top": null,
            "visibility": null,
            "width": null
          }
        },
        "6979cdb9b1764954b2954f0918611a88": {
          "model_module": "@jupyter-widgets/base",
          "model_name": "LayoutModel",
          "model_module_version": "1.2.0",
          "state": {
            "_model_module": "@jupyter-widgets/base",
            "_model_module_version": "1.2.0",
            "_model_name": "LayoutModel",
            "_view_count": null,
            "_view_module": "@jupyter-widgets/base",
            "_view_module_version": "1.2.0",
            "_view_name": "LayoutView",
            "align_content": null,
            "align_items": null,
            "align_self": null,
            "border": null,
            "bottom": null,
            "display": null,
            "flex": null,
            "flex_flow": null,
            "grid_area": null,
            "grid_auto_columns": null,
            "grid_auto_flow": null,
            "grid_auto_rows": null,
            "grid_column": null,
            "grid_gap": null,
            "grid_row": null,
            "grid_template_areas": null,
            "grid_template_columns": null,
            "grid_template_rows": null,
            "height": null,
            "justify_content": null,
            "justify_items": null,
            "left": null,
            "margin": null,
            "max_height": null,
            "max_width": null,
            "min_height": null,
            "min_width": null,
            "object_fit": null,
            "object_position": null,
            "order": null,
            "overflow": null,
            "overflow_x": null,
            "overflow_y": null,
            "padding": null,
            "right": null,
            "top": null,
            "visibility": null,
            "width": null
          }
        },
        "22f47cf9a25243b4902245b0dd6c0543": {
          "model_module": "@jupyter-widgets/controls",
          "model_name": "DescriptionStyleModel",
          "model_module_version": "1.5.0",
          "state": {
            "_model_module": "@jupyter-widgets/controls",
            "_model_module_version": "1.5.0",
            "_model_name": "DescriptionStyleModel",
            "_view_count": null,
            "_view_module": "@jupyter-widgets/base",
            "_view_module_version": "1.2.0",
            "_view_name": "StyleView",
            "description_width": ""
          }
        },
        "2404254633fd486cb6c1c959006f7e43": {
          "model_module": "@jupyter-widgets/base",
          "model_name": "LayoutModel",
          "model_module_version": "1.2.0",
          "state": {
            "_model_module": "@jupyter-widgets/base",
            "_model_module_version": "1.2.0",
            "_model_name": "LayoutModel",
            "_view_count": null,
            "_view_module": "@jupyter-widgets/base",
            "_view_module_version": "1.2.0",
            "_view_name": "LayoutView",
            "align_content": null,
            "align_items": null,
            "align_self": null,
            "border": null,
            "bottom": null,
            "display": null,
            "flex": null,
            "flex_flow": null,
            "grid_area": null,
            "grid_auto_columns": null,
            "grid_auto_flow": null,
            "grid_auto_rows": null,
            "grid_column": null,
            "grid_gap": null,
            "grid_row": null,
            "grid_template_areas": null,
            "grid_template_columns": null,
            "grid_template_rows": null,
            "height": null,
            "justify_content": null,
            "justify_items": null,
            "left": null,
            "margin": null,
            "max_height": null,
            "max_width": null,
            "min_height": null,
            "min_width": null,
            "object_fit": null,
            "object_position": null,
            "order": null,
            "overflow": null,
            "overflow_x": null,
            "overflow_y": null,
            "padding": null,
            "right": null,
            "top": null,
            "visibility": null,
            "width": null
          }
        },
        "5e4f7bcc9d274aff8efeda3928a4f023": {
          "model_module": "@jupyter-widgets/controls",
          "model_name": "ProgressStyleModel",
          "model_module_version": "1.5.0",
          "state": {
            "_model_module": "@jupyter-widgets/controls",
            "_model_module_version": "1.5.0",
            "_model_name": "ProgressStyleModel",
            "_view_count": null,
            "_view_module": "@jupyter-widgets/base",
            "_view_module_version": "1.2.0",
            "_view_name": "StyleView",
            "bar_color": null,
            "description_width": ""
          }
        },
        "a412013e5ec947feb61bb0e513ff42dd": {
          "model_module": "@jupyter-widgets/base",
          "model_name": "LayoutModel",
          "model_module_version": "1.2.0",
          "state": {
            "_model_module": "@jupyter-widgets/base",
            "_model_module_version": "1.2.0",
            "_model_name": "LayoutModel",
            "_view_count": null,
            "_view_module": "@jupyter-widgets/base",
            "_view_module_version": "1.2.0",
            "_view_name": "LayoutView",
            "align_content": null,
            "align_items": null,
            "align_self": null,
            "border": null,
            "bottom": null,
            "display": null,
            "flex": null,
            "flex_flow": null,
            "grid_area": null,
            "grid_auto_columns": null,
            "grid_auto_flow": null,
            "grid_auto_rows": null,
            "grid_column": null,
            "grid_gap": null,
            "grid_row": null,
            "grid_template_areas": null,
            "grid_template_columns": null,
            "grid_template_rows": null,
            "height": null,
            "justify_content": null,
            "justify_items": null,
            "left": null,
            "margin": null,
            "max_height": null,
            "max_width": null,
            "min_height": null,
            "min_width": null,
            "object_fit": null,
            "object_position": null,
            "order": null,
            "overflow": null,
            "overflow_x": null,
            "overflow_y": null,
            "padding": null,
            "right": null,
            "top": null,
            "visibility": null,
            "width": null
          }
        },
        "82775a21894747ea90624655a7ff1086": {
          "model_module": "@jupyter-widgets/controls",
          "model_name": "DescriptionStyleModel",
          "model_module_version": "1.5.0",
          "state": {
            "_model_module": "@jupyter-widgets/controls",
            "_model_module_version": "1.5.0",
            "_model_name": "DescriptionStyleModel",
            "_view_count": null,
            "_view_module": "@jupyter-widgets/base",
            "_view_module_version": "1.2.0",
            "_view_name": "StyleView",
            "description_width": ""
          }
        }
      }
    }
  },
  "cells": [
    {
      "cell_type": "markdown",
      "metadata": {
        "id": "qcChycJ6M38y"
      },
      "source": [
        "# CS 273A Final Project: Insulin Usage Level Prediction"
      ]
    },
    {
      "cell_type": "code",
      "metadata": {
        "colab": {
          "base_uri": "https://localhost:8080/"
        },
        "id": "8F7-suQKM8s-",
        "outputId": "c1aa3b04-ff14-4a67-cfc3-a5a90ecee90d"
      },
      "source": [
        "#Mount to your google drive\n",
        "from google.colab import drive\n",
        "import pandas as pd\n",
        "\n",
        "drive.mount('/content/drive/', force_remount= True)"
      ],
      "execution_count": null,
      "outputs": [
        {
          "name": "stdout",
          "output_type": "stream",
          "text": [
            "Mounted at /content/drive/\n"
          ]
        }
      ]
    },
    {
      "cell_type": "markdown",
      "metadata": {
        "id": "-2DbLiAcM380"
      },
      "source": [
        "## Part 1: Data Analysis"
      ]
    },
    {
      "cell_type": "code",
      "metadata": {
        "id": "Dd2_jnzjM381"
      },
      "source": [
        "import numpy as np\n",
        "import pandas as pd\n",
        "import matplotlib.pyplot as plt\n",
        "import json"
      ],
      "execution_count": null,
      "outputs": []
    },
    {
      "cell_type": "code",
      "metadata": {
        "id": "3E-Jlrw_M382"
      },
      "source": [
        "data = pd.read_csv(\"/content/drive/MyDrive/dataset_diabetes/diabetic_data.csv\")"
      ],
      "execution_count": null,
      "outputs": []
    },
    {
      "cell_type": "code",
      "metadata": {
        "colab": {
          "base_uri": "https://localhost:8080/",
          "height": 317
        },
        "id": "sTK3FDycM382",
        "outputId": "b3480a2b-5277-429d-cc81-1656e36bdc79"
      },
      "source": [
        "# Disbribe the overall data distribution\n",
        "data.describe()"
      ],
      "execution_count": null,
      "outputs": [
        {
          "data": {
            "text/html": [
              "<div>\n",
              "<style scoped>\n",
              "    .dataframe tbody tr th:only-of-type {\n",
              "        vertical-align: middle;\n",
              "    }\n",
              "\n",
              "    .dataframe tbody tr th {\n",
              "        vertical-align: top;\n",
              "    }\n",
              "\n",
              "    .dataframe thead th {\n",
              "        text-align: right;\n",
              "    }\n",
              "</style>\n",
              "<table border=\"1\" class=\"dataframe\">\n",
              "  <thead>\n",
              "    <tr style=\"text-align: right;\">\n",
              "      <th></th>\n",
              "      <th>encounter_id</th>\n",
              "      <th>patient_nbr</th>\n",
              "      <th>admission_type_id</th>\n",
              "      <th>discharge_disposition_id</th>\n",
              "      <th>admission_source_id</th>\n",
              "      <th>time_in_hospital</th>\n",
              "      <th>num_lab_procedures</th>\n",
              "      <th>num_procedures</th>\n",
              "      <th>num_medications</th>\n",
              "      <th>number_outpatient</th>\n",
              "      <th>number_emergency</th>\n",
              "      <th>number_inpatient</th>\n",
              "      <th>number_diagnoses</th>\n",
              "    </tr>\n",
              "  </thead>\n",
              "  <tbody>\n",
              "    <tr>\n",
              "      <th>count</th>\n",
              "      <td>1.017660e+05</td>\n",
              "      <td>1.017660e+05</td>\n",
              "      <td>101766.000000</td>\n",
              "      <td>101766.000000</td>\n",
              "      <td>101766.000000</td>\n",
              "      <td>101766.000000</td>\n",
              "      <td>101766.000000</td>\n",
              "      <td>101766.000000</td>\n",
              "      <td>101766.000000</td>\n",
              "      <td>101766.000000</td>\n",
              "      <td>101766.000000</td>\n",
              "      <td>101766.000000</td>\n",
              "      <td>101766.000000</td>\n",
              "    </tr>\n",
              "    <tr>\n",
              "      <th>mean</th>\n",
              "      <td>1.652016e+08</td>\n",
              "      <td>5.433040e+07</td>\n",
              "      <td>2.024006</td>\n",
              "      <td>3.715642</td>\n",
              "      <td>5.754437</td>\n",
              "      <td>4.395987</td>\n",
              "      <td>43.095641</td>\n",
              "      <td>1.339730</td>\n",
              "      <td>16.021844</td>\n",
              "      <td>0.369357</td>\n",
              "      <td>0.197836</td>\n",
              "      <td>0.635566</td>\n",
              "      <td>7.422607</td>\n",
              "    </tr>\n",
              "    <tr>\n",
              "      <th>std</th>\n",
              "      <td>1.026403e+08</td>\n",
              "      <td>3.869636e+07</td>\n",
              "      <td>1.445403</td>\n",
              "      <td>5.280166</td>\n",
              "      <td>4.064081</td>\n",
              "      <td>2.985108</td>\n",
              "      <td>19.674362</td>\n",
              "      <td>1.705807</td>\n",
              "      <td>8.127566</td>\n",
              "      <td>1.267265</td>\n",
              "      <td>0.930472</td>\n",
              "      <td>1.262863</td>\n",
              "      <td>1.933600</td>\n",
              "    </tr>\n",
              "    <tr>\n",
              "      <th>min</th>\n",
              "      <td>1.252200e+04</td>\n",
              "      <td>1.350000e+02</td>\n",
              "      <td>1.000000</td>\n",
              "      <td>1.000000</td>\n",
              "      <td>1.000000</td>\n",
              "      <td>1.000000</td>\n",
              "      <td>1.000000</td>\n",
              "      <td>0.000000</td>\n",
              "      <td>1.000000</td>\n",
              "      <td>0.000000</td>\n",
              "      <td>0.000000</td>\n",
              "      <td>0.000000</td>\n",
              "      <td>1.000000</td>\n",
              "    </tr>\n",
              "    <tr>\n",
              "      <th>25%</th>\n",
              "      <td>8.496119e+07</td>\n",
              "      <td>2.341322e+07</td>\n",
              "      <td>1.000000</td>\n",
              "      <td>1.000000</td>\n",
              "      <td>1.000000</td>\n",
              "      <td>2.000000</td>\n",
              "      <td>31.000000</td>\n",
              "      <td>0.000000</td>\n",
              "      <td>10.000000</td>\n",
              "      <td>0.000000</td>\n",
              "      <td>0.000000</td>\n",
              "      <td>0.000000</td>\n",
              "      <td>6.000000</td>\n",
              "    </tr>\n",
              "    <tr>\n",
              "      <th>50%</th>\n",
              "      <td>1.523890e+08</td>\n",
              "      <td>4.550514e+07</td>\n",
              "      <td>1.000000</td>\n",
              "      <td>1.000000</td>\n",
              "      <td>7.000000</td>\n",
              "      <td>4.000000</td>\n",
              "      <td>44.000000</td>\n",
              "      <td>1.000000</td>\n",
              "      <td>15.000000</td>\n",
              "      <td>0.000000</td>\n",
              "      <td>0.000000</td>\n",
              "      <td>0.000000</td>\n",
              "      <td>8.000000</td>\n",
              "    </tr>\n",
              "    <tr>\n",
              "      <th>75%</th>\n",
              "      <td>2.302709e+08</td>\n",
              "      <td>8.754595e+07</td>\n",
              "      <td>3.000000</td>\n",
              "      <td>4.000000</td>\n",
              "      <td>7.000000</td>\n",
              "      <td>6.000000</td>\n",
              "      <td>57.000000</td>\n",
              "      <td>2.000000</td>\n",
              "      <td>20.000000</td>\n",
              "      <td>0.000000</td>\n",
              "      <td>0.000000</td>\n",
              "      <td>1.000000</td>\n",
              "      <td>9.000000</td>\n",
              "    </tr>\n",
              "    <tr>\n",
              "      <th>max</th>\n",
              "      <td>4.438672e+08</td>\n",
              "      <td>1.895026e+08</td>\n",
              "      <td>8.000000</td>\n",
              "      <td>28.000000</td>\n",
              "      <td>25.000000</td>\n",
              "      <td>14.000000</td>\n",
              "      <td>132.000000</td>\n",
              "      <td>6.000000</td>\n",
              "      <td>81.000000</td>\n",
              "      <td>42.000000</td>\n",
              "      <td>76.000000</td>\n",
              "      <td>21.000000</td>\n",
              "      <td>16.000000</td>\n",
              "    </tr>\n",
              "  </tbody>\n",
              "</table>\n",
              "</div>"
            ],
            "text/plain": [
              "       encounter_id   patient_nbr  ...  number_inpatient  number_diagnoses\n",
              "count  1.017660e+05  1.017660e+05  ...     101766.000000     101766.000000\n",
              "mean   1.652016e+08  5.433040e+07  ...          0.635566          7.422607\n",
              "std    1.026403e+08  3.869636e+07  ...          1.262863          1.933600\n",
              "min    1.252200e+04  1.350000e+02  ...          0.000000          1.000000\n",
              "25%    8.496119e+07  2.341322e+07  ...          0.000000          6.000000\n",
              "50%    1.523890e+08  4.550514e+07  ...          0.000000          8.000000\n",
              "75%    2.302709e+08  8.754595e+07  ...          1.000000          9.000000\n",
              "max    4.438672e+08  1.895026e+08  ...         21.000000         16.000000\n",
              "\n",
              "[8 rows x 13 columns]"
            ]
          },
          "execution_count": 4,
          "metadata": {},
          "output_type": "execute_result"
        }
      ]
    },
    {
      "cell_type": "code",
      "metadata": {
        "colab": {
          "base_uri": "https://localhost:8080/"
        },
        "id": "HMbjt4kwM383",
        "outputId": "23b81dbf-ce82-4851-c4f9-b805f19e126c"
      },
      "source": [
        "# Get all features of the data and show the number of feature columns we have\n",
        "all_columns = []\n",
        "for col in data.columns:\n",
        "    all_columns.append(col)\n",
        "\n",
        "print(\"All features:\", all_columns)\n",
        "print(\"-\"*20)\n",
        "print(\"The number features we have:\", len(all_columns))"
      ],
      "execution_count": null,
      "outputs": [
        {
          "name": "stdout",
          "output_type": "stream",
          "text": [
            "All features: ['encounter_id', 'patient_nbr', 'race', 'gender', 'age', 'weight', 'admission_type_id', 'discharge_disposition_id', 'admission_source_id', 'time_in_hospital', 'payer_code', 'medical_specialty', 'num_lab_procedures', 'num_procedures', 'num_medications', 'number_outpatient', 'number_emergency', 'number_inpatient', 'diag_1', 'diag_2', 'diag_3', 'number_diagnoses', 'max_glu_serum', 'A1Cresult', 'metformin', 'repaglinide', 'nateglinide', 'chlorpropamide', 'glimepiride', 'acetohexamide', 'glipizide', 'glyburide', 'tolbutamide', 'pioglitazone', 'rosiglitazone', 'acarbose', 'miglitol', 'troglitazone', 'tolazamide', 'examide', 'citoglipton', 'insulin', 'glyburide-metformin', 'glipizide-metformin', 'glimepiride-pioglitazone', 'metformin-rosiglitazone', 'metformin-pioglitazone', 'change', 'diabetesMed', 'readmitted']\n",
            "--------------------\n",
            "The number features we have: 50\n"
          ]
        }
      ]
    },
    {
      "cell_type": "markdown",
      "metadata": {
        "id": "_bHcdt_7M383"
      },
      "source": [
        "As we can see, we have in total 50 feature columns if we do not consider the target feature. For each feature, we have 101766 rows of data."
      ]
    },
    {
      "cell_type": "code",
      "metadata": {
        "colab": {
          "base_uri": "https://localhost:8080/"
        },
        "id": "Z0mLxyf8M383",
        "outputId": "fb6c7b81-01d3-446e-d3f0-44c8a1db28a3"
      },
      "source": [
        "# Seperate data by type: 1. categorical, 2. numerical.\n",
        "cate_data = []\n",
        "numerical_data = []\n",
        "for i in all_columns:\n",
        "    if all(isinstance(x, float) or isinstance(x, int) for x in data[i]):\n",
        "        numerical_data.append(i)\n",
        "    if all(isinstance(x, str) for x in data[i]):\n",
        "        cate_data.append(i)\n",
        "\n",
        "data_type = {}\n",
        "data_type[\"categorical data\"] = [cate_data, len(cate_data)]\n",
        "data_type[\"numerical data\"] = [numerical_data, len(numerical_data)]\n",
        "\n",
        "data_type"
      ],
      "execution_count": null,
      "outputs": [
        {
          "data": {
            "text/plain": [
              "{'categorical data': [['race',\n",
              "   'gender',\n",
              "   'age',\n",
              "   'weight',\n",
              "   'payer_code',\n",
              "   'medical_specialty',\n",
              "   'diag_1',\n",
              "   'diag_2',\n",
              "   'diag_3',\n",
              "   'max_glu_serum',\n",
              "   'A1Cresult',\n",
              "   'metformin',\n",
              "   'repaglinide',\n",
              "   'nateglinide',\n",
              "   'chlorpropamide',\n",
              "   'glimepiride',\n",
              "   'acetohexamide',\n",
              "   'glipizide',\n",
              "   'glyburide',\n",
              "   'tolbutamide',\n",
              "   'pioglitazone',\n",
              "   'rosiglitazone',\n",
              "   'acarbose',\n",
              "   'miglitol',\n",
              "   'troglitazone',\n",
              "   'tolazamide',\n",
              "   'examide',\n",
              "   'citoglipton',\n",
              "   'insulin',\n",
              "   'glyburide-metformin',\n",
              "   'glipizide-metformin',\n",
              "   'glimepiride-pioglitazone',\n",
              "   'metformin-rosiglitazone',\n",
              "   'metformin-pioglitazone',\n",
              "   'change',\n",
              "   'diabetesMed',\n",
              "   'readmitted'],\n",
              "  37],\n",
              " 'numerical data': [['encounter_id',\n",
              "   'patient_nbr',\n",
              "   'admission_type_id',\n",
              "   'discharge_disposition_id',\n",
              "   'admission_source_id',\n",
              "   'time_in_hospital',\n",
              "   'num_lab_procedures',\n",
              "   'num_procedures',\n",
              "   'num_medications',\n",
              "   'number_outpatient',\n",
              "   'number_emergency',\n",
              "   'number_inpatient',\n",
              "   'number_diagnoses'],\n",
              "  13]}"
            ]
          },
          "execution_count": 6,
          "metadata": {},
          "output_type": "execute_result"
        }
      ]
    },
    {
      "cell_type": "code",
      "metadata": {
        "colab": {
          "base_uri": "https://localhost:8080/",
          "height": 248
        },
        "id": "7wnU6ok3M384",
        "outputId": "5f9448e7-aaa2-4d65-e193-8939eb934b9e"
      },
      "source": [
        "# plot the data type percentage\n",
        "labels = \"numercal data\", \"categorical data\"\n",
        "sizes = [13, 37]\n",
        "explode = (0, 0.1)  # only \"explode\" the 2nd slice (i.e. 'Hogs')\n",
        "\n",
        "fig1, ax1 = plt.subplots()\n",
        "ax1.pie(sizes, explode=explode, labels=labels, autopct='%1.1f%%',\n",
        "        shadow=True, startangle=90)\n",
        "ax1.axis('equal')  # Equal aspect ratio ensures that pie is drawn as a circle.\n",
        "\n",
        "plt.show()"
      ],
      "execution_count": null,
      "outputs": [
        {
          "data": {
            "image/png": "[encoded data removed]",
            "text/plain": [
              "<Figure size 432x288 with 1 Axes>"
            ]
          },
          "metadata": {},
          "output_type": "display_data"
        }
      ]
    },
    {
      "cell_type": "markdown",
      "metadata": {
        "id": "DodyoA8kM384"
      },
      "source": [
        "As we can see 26% data are numerical data and the rest are categorical."
      ]
    },
    {
      "cell_type": "code",
      "metadata": {
        "id": "__v39MxoM384"
      },
      "source": [
        "# Since we are prediction the level of insulin usage, let's first understand the insulin feature\n",
        "insulin = data[\"insulin\"]"
      ],
      "execution_count": null,
      "outputs": []
    },
    {
      "cell_type": "code",
      "metadata": {
        "colab": {
          "base_uri": "https://localhost:8080/"
        },
        "id": "OnI_1C2KM384",
        "outputId": "d057f72e-c628-48fe-f5b6-7e8947ea6765"
      },
      "source": [
        "insulin.describe()"
      ],
      "execution_count": null,
      "outputs": [
        {
          "data": {
            "text/plain": [
              "count     101766\n",
              "unique         4\n",
              "top           No\n",
              "freq       47383\n",
              "Name: insulin, dtype: object"
            ]
          },
          "execution_count": 9,
          "metadata": {},
          "output_type": "execute_result"
        }
      ]
    },
    {
      "cell_type": "code",
      "metadata": {
        "id": "kxm4xQcuM385"
      },
      "source": [
        "unique_insulin_data = set([i for i in insulin])\n",
        "\n",
        "# We have 4 unique category in this insulin data\n",
        "Down, No, Steady, Up = 0, 0, 0, 0\n",
        "for i in insulin:\n",
        "    if i == \"Down\":\n",
        "        Down+=1\n",
        "    if i == \"No\":\n",
        "        No +=1\n",
        "    if i == \"Steady\":\n",
        "        Steady += 1\n",
        "    if i == \"Up\":\n",
        "        Up += 1"
      ],
      "execution_count": null,
      "outputs": []
    },
    {
      "cell_type": "code",
      "metadata": {
        "colab": {
          "base_uri": "https://localhost:8080/",
          "height": 248
        },
        "id": "4TAggpYHM385",
        "outputId": "cb4d7f2d-39c7-40a7-8849-dff7882e15a5"
      },
      "source": [
        "# plot the data type percentage\n",
        "labels = \"Down\", \"No\", \"Steady\", \"Up\"\n",
        "sizes = [Down, No, Steady, Up]\n",
        "explode = (0, 0.1, 0, 0)  # only \"explode\" the 2nd slice (i.e. 'Hogs')\n",
        "\n",
        "fig1, ax1 = plt.subplots()\n",
        "ax1.pie(sizes, explode=explode, labels=labels, autopct='%1.1f%%',\n",
        "        shadow=True, startangle=90)\n",
        "ax1.axis('equal')  # Equal aspect ratio ensures that pie is drawn as a circle.\n",
        "\n",
        "plt.show()"
      ],
      "execution_count": null,
      "outputs": [
        {
          "data": {
            "image/png": "[encoded data removed]",
            "text/plain": [
              "<Figure size 432x288 with 1 Axes>"
            ]
          },
          "metadata": {},
          "output_type": "display_data"
        }
      ]
    },
    {
      "cell_type": "code",
      "metadata": {
        "id": "_6rLPsLiM385"
      },
      "source": [
        "# Need to convert all categorical features to numerical\n",
        "def feature_transformation(df):\n",
        "    \"\"\"\n",
        "        Return transformed dataframe and feature map to convert feature back from numerical to categorical\n",
        "    \"\"\"\n",
        "    feature_map = {}\n",
        "    counter = 0\n",
        "    for name in df.columns:\n",
        "        unique_cate = list(i for i in set([i for i in df[name]]))\n",
        "        cate_dict = {}\n",
        "        for i in range(len(unique_cate)):\n",
        "            cate_dict[unique_cate[i]] = i\n",
        "        feature_map[name] = cate_dict\n",
        "        \n",
        "        iter_counter = 0\n",
        "        for i in df[name]:\n",
        "            df[name][iter_counter] = cate_dict[i]\n",
        "            iter_counter += 1\n",
        "        counter += 1\n",
        "        print(counter)\n",
        "    return df, feature_map"
      ],
      "execution_count": null,
      "outputs": []
    },
    {
      "cell_type": "code",
      "metadata": {
        "id": "K7IYAsP_M386",
        "outputId": "bfa293ae-bdd8-437d-b5ca-ff22ad9f3c81"
      },
      "source": [
        "# Do not run this cell. This takes very long time.\n",
        "cate_df = data[data_type[\"categorical data\"][0]]\n",
        "cate_df, feature_map = feature_transformation(cate_df)"
      ],
      "execution_count": null,
      "outputs": [
        {
          "name": "stderr",
          "output_type": "stream",
          "text": [
            "<ipython-input-59-5fa2117ac255>:2: SettingWithCopyWarning: \n",
            "A value is trying to be set on a copy of a slice from a DataFrame\n",
            "\n",
            "See the caveats in the documentation: https://pandas.pydata.org/pandas-docs/stable/user_guide/indexing.html#returning-a-view-versus-a-copy\n",
            "  cate_df, feature_map = feature_transformation(cate_df)\n"
          ]
        },
        {
          "name": "stdout",
          "output_type": "stream",
          "text": [
            "1\n",
            "2\n",
            "3\n",
            "4\n",
            "5\n",
            "6\n",
            "7\n",
            "8\n",
            "9\n",
            "10\n",
            "11\n",
            "12\n",
            "13\n",
            "14\n",
            "15\n",
            "16\n",
            "17\n",
            "18\n",
            "19\n",
            "20\n",
            "21\n",
            "22\n",
            "23\n",
            "24\n",
            "25\n",
            "26\n",
            "27\n",
            "28\n",
            "29\n",
            "30\n",
            "31\n",
            "32\n",
            "33\n",
            "34\n",
            "35\n",
            "36\n",
            "37\n"
          ]
        }
      ]
    },
    {
      "cell_type": "code",
      "metadata": {
        "id": "qd2BveE6M386"
      },
      "source": [
        "# save cate_df as csv\n",
        "cate_df.to_csv(\"cate_df.csv\", index = 0)\n",
        "\n",
        "# save feature map as json file\n",
        "with open('feature_map.json', 'w') as fp:\n",
        "    json.dump(feature_map, fp)"
      ],
      "execution_count": null,
      "outputs": []
    },
    {
      "cell_type": "markdown",
      "metadata": {
        "id": "3tq9reFEM386"
      },
      "source": [
        "### Part 1.1: Feature Selection"
      ]
    },
    {
      "cell_type": "code",
      "metadata": {
        "id": "UkFwZ4hyM387"
      },
      "source": [
        "from sklearn.feature_selection import SelectFromModel\n",
        "from sklearn.linear_model import Lasso\n",
        "from sklearn.linear_model import Ridge\n",
        "from sklearn.feature_selection import RFE\n",
        "from sklearn.tree import DecisionTreeRegressor\n",
        "from sklearn.svm import LinearSVR\n",
        "from sklearn.feature_selection import SelectKBest, mutual_info_regression"
      ],
      "execution_count": null,
      "outputs": []
    },
    {
      "cell_type": "code",
      "metadata": {
        "id": "sbZ064YAM387"
      },
      "source": [
        "# load categorical dataframe\n",
        "cate_df = pd.read_csv(\"/content/drive/MyDrive/dataset_diabetes/cate_df.csv\")\n",
        "numerical_df = data[data_type[\"numerical data\"][0]]"
      ],
      "execution_count": null,
      "outputs": []
    },
    {
      "cell_type": "code",
      "metadata": {
        "id": "M3hpFq8aM387"
      },
      "source": [
        "all_df = pd.concat([cate_df, numerical_df], axis=1)"
      ],
      "execution_count": null,
      "outputs": []
    },
    {
      "cell_type": "code",
      "metadata": {
        "id": "Lx4PRvAZM387"
      },
      "source": [
        "# Let's first try to do the feature selection\n",
        "all_features = all_df.copy()\n",
        "insulin = all_features[\"insulin\"]\n",
        "all_features = all_features.drop(columns = \"insulin\")"
      ],
      "execution_count": null,
      "outputs": []
    },
    {
      "cell_type": "code",
      "metadata": {
        "id": "4ErBrmcDM387"
      },
      "source": [
        "def ridge_selector(X, y, n):\n",
        "    ridge = Ridge().fit(X,y)\n",
        "    embeded_lr_selector = SelectFromModel(ridge, max_features=n).fit(X, y)\n",
        "    embeded_lr_selector_support = embeded_lr_selector.get_support()\n",
        "    return embeded_lr_selector_support\n",
        "\n",
        "def lasso_selector(X, y, n):\n",
        "    lasso = Lasso(alpha=0.5, max_iter=10000, tol = 0.032).fit(X, y)\n",
        "    embeded_lr_selector = SelectFromModel(lasso, max_features=n).fit(X, y)\n",
        "    embeded_lr_selector_support = embeded_lr_selector.get_support()\n",
        "    return embeded_lr_selector_support\n",
        "\n",
        "def rf_selector(X, y, n):\n",
        "    rf = DecisionTreeRegressor(random_state=1)\n",
        "    embeded_rf_selector = SelectFromModel(rf, max_features=n).fit(X, y)\n",
        "    embeded_rf_selector_support = embeded_rf_selector.get_support()\n",
        "    return embeded_rf_selector_support\n",
        "\n",
        "def RFE_selector(X, y, n):\n",
        "    rfe_selector = RFE(estimator=DecisionTreeRegressor(random_state=1), n_features_to_select=n, step=5, verbose=5)\n",
        "    rfe_selector.fit(X, y)\n",
        "    rfe_support = rfe_selector.get_support()\n",
        "    return rfe_support\n",
        "\n",
        "def svr_selector(X, y, n):\n",
        "    selector = SelectFromModel(estimator=LinearSVR(), max_features=n).fit(X, y)\n",
        "    svr_selector_support = selector.get_support()\n",
        "    return svr_selector_support\n",
        "\n",
        "def mutual_information_selector(X, y, n):\n",
        "    '''\n",
        "      This is a method which returns the new dataframe of the n top features to select on mutual_info_regression score\n",
        "    '''\n",
        "    mir_selector = SelectKBest(mutual_info_regression, k=n)\n",
        "    mir_selector.fit(X, y)\n",
        "    mir_support = mir_selector.get_support()\n",
        "    return mir_support"
      ],
      "execution_count": null,
      "outputs": []
    },
    {
      "cell_type": "code",
      "metadata": {
        "id": "CE23rCdJM387"
      },
      "source": [
        "# Holistic Feature Selection\n",
        "def feature_select_tb(x, y, n, ridge = False, lasso = False):\n",
        "    feature_col = [i for i in x.columns]\n",
        "    if ridge:\n",
        "        ridge_idx = []\n",
        "        ridge_counter = 0\n",
        "        for i in ridge_selector(x, y, n):\n",
        "            if i == True:\n",
        "                ridge_idx.append(ridge_counter)\n",
        "            ridge_counter += 1\n",
        "        ridge_feature = [feature_col[i] for i in ridge_idx]\n",
        "\n",
        "    if lasso:\n",
        "        lasso_idx = []\n",
        "        lasso_counter = 0\n",
        "        for i in lasso_selector(x, y, n):\n",
        "            if i == True:\n",
        "                lasso_idx.append(lasso_counter)\n",
        "            lasso_counter += 1\n",
        "        lasso_feature = [feature_col[i] for i in lasso_idx]\n",
        "\n",
        "    RFE_idx = []\n",
        "    RFE_counter = 0\n",
        "    for i in RFE_selector(x, y, n):\n",
        "        if i == True:\n",
        "            RFE_idx.append(RFE_counter)\n",
        "        RFE_counter += 1\n",
        "    RFE_feature = [feature_col[i] for i in RFE_idx]\n",
        "\n",
        "    svr_idx = []\n",
        "    svr_counter = 0\n",
        "    for i in svr_selector(x, y, n):\n",
        "        if i == True:\n",
        "            svr_idx.append(svr_counter)\n",
        "        svr_counter += 1\n",
        "    svr_feature = [feature_col[i] for i in svr_idx]\n",
        "\n",
        "    mi_idx = []\n",
        "    mi_counter = 0\n",
        "    for i in mutual_information_selector(x, y, n):\n",
        "        if i == True:\n",
        "            mi_idx.append(mi_counter)\n",
        "        mi_counter += 1\n",
        "    mi_feature = [feature_col[i] for i in mi_idx]\n",
        "\n",
        "    if ridge:\n",
        "        print(\"ridge:\", ridge_feature)\n",
        "        print(\"rfe:\", RFE_feature)\n",
        "        print(\"svr:\", svr_feature)\n",
        "        print(\"mi:\", mi_feature)\n",
        "\n",
        "    if lasso:\n",
        "        print(\"lasso:\", lasso_feature)\n",
        "        print(\"rfe:\", RFE_feature)\n",
        "        print(\"svr:\", svr_feature)\n",
        "        print(\"mi:\", mi_feature)"
      ],
      "execution_count": null,
      "outputs": []
    },
    {
      "cell_type": "code",
      "metadata": {
        "colab": {
          "base_uri": "https://localhost:8080/"
        },
        "id": "yFpKMWFyM388",
        "outputId": "fdfd9825-27b7-4973-9570-186ef64ecf7e"
      },
      "source": [
        "# Selection 1: 50% features. In our case, we will use ridge (L1) to select the most important feature.\n",
        "feature_select_tb(all_features, insulin, 20, ridge = True, lasso = False)"
      ],
      "execution_count": null,
      "outputs": [
        {
          "name": "stderr",
          "output_type": "stream",
          "text": [
            "/usr/local/lib/python3.7/dist-packages/sklearn/linear_model/_ridge.py:156: LinAlgWarning: Ill-conditioned matrix (rcond=7.81827e-22): result may not be accurate.\n",
            "  return linalg.solve(A, Xy, sym_pos=True, overwrite_a=True).T\n",
            "/usr/local/lib/python3.7/dist-packages/sklearn/linear_model/_ridge.py:156: LinAlgWarning: Ill-conditioned matrix (rcond=7.81827e-22): result may not be accurate.\n",
            "  return linalg.solve(A, Xy, sym_pos=True, overwrite_a=True).T\n"
          ]
        },
        {
          "name": "stdout",
          "output_type": "stream",
          "text": [
            "Fitting estimator with 49 features.\n",
            "Fitting estimator with 44 features.\n",
            "Fitting estimator with 39 features.\n",
            "Fitting estimator with 34 features.\n",
            "Fitting estimator with 29 features.\n",
            "Fitting estimator with 24 features.\n"
          ]
        },
        {
          "name": "stderr",
          "output_type": "stream",
          "text": [
            "/usr/local/lib/python3.7/dist-packages/sklearn/svm/_base.py:1208: ConvergenceWarning: Liblinear failed to converge, increase the number of iterations.\n",
            "  ConvergenceWarning,\n"
          ]
        },
        {
          "name": "stdout",
          "output_type": "stream",
          "text": [
            "ridge: ['metformin', 'repaglinide', 'chlorpropamide', 'glimepiride', 'acetohexamide', 'glipizide', 'glyburide', 'tolbutamide', 'acarbose', 'troglitazone', 'tolazamide', 'glyburide-metformin', 'glipizide-metformin', 'glimepiride-pioglitazone', 'metformin-rosiglitazone', 'metformin-pioglitazone', 'change', 'diabetesMed']\n",
            "rfe: ['payer_code', 'medical_specialty', 'diag_1', 'diag_2', 'diag_3', 'metformin', 'repaglinide', 'glimepiride', 'glipizide', 'glyburide', 'pioglitazone', 'rosiglitazone', 'glyburide-metformin', 'change', 'diabetesMed', 'encounter_id', 'patient_nbr', 'time_in_hospital', 'num_lab_procedures', 'num_medications']\n",
            "svr: ['race', 'gender', 'age', 'weight', 'payer_code', 'medical_specialty', 'diag_1', 'diag_2', 'diag_3', 'max_glu_serum', 'A1Cresult', 'metformin', 'repaglinide', 'nateglinide', 'chlorpropamide', 'glimepiride', 'acetohexamide', 'glipizide', 'glyburide', 'tolbutamide']\n",
            "mi: ['weight', 'payer_code', 'medical_specialty', 'A1Cresult', 'metformin', 'glyburide', 'tolbutamide', 'metformin-pioglitazone', 'change', 'diabetesMed', 'encounter_id', 'patient_nbr', 'admission_type_id', 'discharge_disposition_id', 'time_in_hospital', 'num_lab_procedures', 'num_medications', 'number_emergency', 'number_inpatient', 'number_diagnoses']\n"
          ]
        }
      ]
    },
    {
      "cell_type": "code",
      "metadata": {
        "id": "6eV_SHRCM388"
      },
      "source": [
        "# Save all selected feature for cross-comparisons\n",
        "ridge = ['metformin', 'repaglinide', 'chlorpropamide', 'glimepiride', 'acetohexamide', 'glipizide', 'glyburide', 'tolbutamide', 'acarbose', 'troglitazone', 'tolazamide', 'glyburide-metformin', 'glipizide-metformin', 'glimepiride-pioglitazone', 'metformin-rosiglitazone', 'metformin-pioglitazone', 'change', 'diabetesMed']\n",
        "rfe = ['payer_code', 'medical_specialty', 'diag_1', 'diag_2', 'diag_3', 'metformin', 'repaglinide', 'glimepiride', 'glipizide', 'glyburide', 'pioglitazone', 'rosiglitazone', 'glyburide-metformin', 'change', 'diabetesMed', 'encounter_id', 'patient_nbr', 'time_in_hospital', 'num_lab_procedures', 'num_medications']\n",
        "svr = ['race', 'gender', 'age', 'weight', 'payer_code', 'medical_specialty', 'diag_1', 'diag_2', 'diag_3', 'max_glu_serum', 'A1Cresult', 'metformin', 'repaglinide', 'nateglinide', 'chlorpropamide', 'glimepiride', 'acetohexamide', 'glipizide', 'glyburide', 'tolbutamide']\n",
        "mi = ['weight', 'payer_code', 'medical_specialty', 'diag_2', 'A1Cresult', 'glipizide', 'glyburide', 'glyburide-metformin', 'change', 'diabetesMed', 'encounter_id', 'patient_nbr', 'admission_type_id', 'discharge_disposition_id', 'time_in_hospital', 'num_lab_procedures', 'num_medications', 'number_emergency', 'number_inpatient', 'number_diagnoses']"
      ],
      "execution_count": null,
      "outputs": []
    },
    {
      "cell_type": "code",
      "metadata": {
        "id": "ewQPj7_lM388"
      },
      "source": [
        "# Cross feature comparisons for the top features based on repetition\n",
        "feature_col = all_features.columns\n",
        "counter_dict = {}\n",
        "for i in feature_col:\n",
        "    counter_dict[i] = [i, 0]\n",
        "\n",
        "for i in feature_col:\n",
        "    if i in ridge:\n",
        "        counter_dict[i][1] += 1\n",
        "    if i in rfe:\n",
        "        counter_dict[i][1] += 1\n",
        "    if i in svr:\n",
        "        counter_dict[i][1] += 1\n",
        "    if i in mi:\n",
        "        counter_dict[i][1] += 1\n",
        "    else:\n",
        "        counter_dict[i][1] += 0"
      ],
      "execution_count": null,
      "outputs": []
    },
    {
      "cell_type": "code",
      "metadata": {
        "id": "FyU9QcX9M388"
      },
      "source": [
        "sorted_selected_feature = sorted([counter_dict[i] for i in counter_dict], key = lambda x: x[1], reverse = True)"
      ],
      "execution_count": null,
      "outputs": []
    },
    {
      "cell_type": "code",
      "metadata": {
        "colab": {
          "base_uri": "https://localhost:8080/"
        },
        "id": "NynzC911M388",
        "outputId": "4f6f0ae8-56d0-44c7-fc37-bcc8b081f848"
      },
      "source": [
        "sorted_selected_feature"
      ],
      "execution_count": null,
      "outputs": [
        {
          "data": {
            "text/plain": [
              "[['glipizide', 4],\n",
              " ['glyburide', 4],\n",
              " ['payer_code', 3],\n",
              " ['medical_specialty', 3],\n",
              " ['diag_2', 3],\n",
              " ['metformin', 3],\n",
              " ['repaglinide', 3],\n",
              " ['glimepiride', 3],\n",
              " ['glyburide-metformin', 3],\n",
              " ['change', 3],\n",
              " ['diabetesMed', 3],\n",
              " ['weight', 2],\n",
              " ['diag_1', 2],\n",
              " ['diag_3', 2],\n",
              " ['A1Cresult', 2],\n",
              " ['chlorpropamide', 2],\n",
              " ['acetohexamide', 2],\n",
              " ['tolbutamide', 2],\n",
              " ['encounter_id', 2],\n",
              " ['patient_nbr', 2],\n",
              " ['time_in_hospital', 2],\n",
              " ['num_lab_procedures', 2],\n",
              " ['num_medications', 2],\n",
              " ['race', 1],\n",
              " ['gender', 1],\n",
              " ['age', 1],\n",
              " ['max_glu_serum', 1],\n",
              " ['nateglinide', 1],\n",
              " ['pioglitazone', 1],\n",
              " ['rosiglitazone', 1],\n",
              " ['acarbose', 1],\n",
              " ['troglitazone', 1],\n",
              " ['tolazamide', 1],\n",
              " ['glipizide-metformin', 1],\n",
              " ['glimepiride-pioglitazone', 1],\n",
              " ['metformin-rosiglitazone', 1],\n",
              " ['metformin-pioglitazone', 1],\n",
              " ['admission_type_id', 1],\n",
              " ['discharge_disposition_id', 1],\n",
              " ['number_emergency', 1],\n",
              " ['number_inpatient', 1],\n",
              " ['number_diagnoses', 1],\n",
              " ['miglitol', 0],\n",
              " ['examide', 0],\n",
              " ['citoglipton', 0],\n",
              " ['readmitted', 0],\n",
              " ['admission_source_id', 0],\n",
              " ['num_procedures', 0],\n",
              " ['number_outpatient', 0]]"
            ]
          },
          "execution_count": 21,
          "metadata": {},
          "output_type": "execute_result"
        }
      ]
    },
    {
      "cell_type": "code",
      "metadata": {
        "colab": {
          "base_uri": "https://localhost:8080/"
        },
        "id": "UkkIcEduM389",
        "outputId": "b162dcc4-5363-4ff7-9041-7a0c38040184"
      },
      "source": [
        "# Select the first 11 features\n",
        "final_selected_features = [i[0] for i in sorted_selected_feature][:11]\n",
        "final_selected_features"
      ],
      "execution_count": null,
      "outputs": [
        {
          "data": {
            "text/plain": [
              "['glipizide',\n",
              " 'glyburide',\n",
              " 'payer_code',\n",
              " 'medical_specialty',\n",
              " 'diag_2',\n",
              " 'metformin',\n",
              " 'repaglinide',\n",
              " 'glimepiride',\n",
              " 'glyburide-metformin',\n",
              " 'change',\n",
              " 'diabetesMed']"
            ]
          },
          "execution_count": 22,
          "metadata": {},
          "output_type": "execute_result"
        }
      ]
    },
    {
      "cell_type": "code",
      "metadata": {
        "colab": {
          "base_uri": "https://localhost:8080/",
          "height": 297
        },
        "id": "nl09Z1YhM389",
        "outputId": "acd4e272-a3c3-4fe9-8f8a-ab96b57ba139"
      },
      "source": [
        "# show the selected feature's stats\n",
        "all_features[final_selected_features].describe()"
      ],
      "execution_count": null,
      "outputs": [
        {
          "data": {
            "text/html": [
              "<div>\n",
              "<style scoped>\n",
              "    .dataframe tbody tr th:only-of-type {\n",
              "        vertical-align: middle;\n",
              "    }\n",
              "\n",
              "    .dataframe tbody tr th {\n",
              "        vertical-align: top;\n",
              "    }\n",
              "\n",
              "    .dataframe thead th {\n",
              "        text-align: right;\n",
              "    }\n",
              "</style>\n",
              "<table border=\"1\" class=\"dataframe\">\n",
              "  <thead>\n",
              "    <tr style=\"text-align: right;\">\n",
              "      <th></th>\n",
              "      <th>glipizide</th>\n",
              "      <th>glyburide</th>\n",
              "      <th>payer_code</th>\n",
              "      <th>medical_specialty</th>\n",
              "      <th>diag_2</th>\n",
              "      <th>metformin</th>\n",
              "      <th>repaglinide</th>\n",
              "      <th>glimepiride</th>\n",
              "      <th>glyburide-metformin</th>\n",
              "      <th>change</th>\n",
              "      <th>diabetesMed</th>\n",
              "    </tr>\n",
              "  </thead>\n",
              "  <tbody>\n",
              "    <tr>\n",
              "      <th>count</th>\n",
              "      <td>101766.000000</td>\n",
              "      <td>101766.000000</td>\n",
              "      <td>101766.000000</td>\n",
              "      <td>101766.000000</td>\n",
              "      <td>101766.000000</td>\n",
              "      <td>101766.000000</td>\n",
              "      <td>101766.000000</td>\n",
              "      <td>101766.000000</td>\n",
              "      <td>101766.000000</td>\n",
              "      <td>101766.000000</td>\n",
              "      <td>101766.000000</td>\n",
              "    </tr>\n",
              "    <tr>\n",
              "      <th>mean</th>\n",
              "      <td>0.353340</td>\n",
              "      <td>0.292455</td>\n",
              "      <td>14.151318</td>\n",
              "      <td>25.944962</td>\n",
              "      <td>354.699123</td>\n",
              "      <td>0.562614</td>\n",
              "      <td>0.042765</td>\n",
              "      <td>0.144695</td>\n",
              "      <td>0.020596</td>\n",
              "      <td>0.461952</td>\n",
              "      <td>0.770031</td>\n",
              "    </tr>\n",
              "    <tr>\n",
              "      <th>std</th>\n",
              "      <td>0.953437</td>\n",
              "      <td>0.874529</td>\n",
              "      <td>4.127565</td>\n",
              "      <td>20.420120</td>\n",
              "      <td>191.927805</td>\n",
              "      <td>1.157174</td>\n",
              "      <td>0.351313</td>\n",
              "      <td>0.634754</td>\n",
              "      <td>0.247164</td>\n",
              "      <td>0.498553</td>\n",
              "      <td>0.420815</td>\n",
              "    </tr>\n",
              "    <tr>\n",
              "      <th>min</th>\n",
              "      <td>0.000000</td>\n",
              "      <td>0.000000</td>\n",
              "      <td>0.000000</td>\n",
              "      <td>0.000000</td>\n",
              "      <td>0.000000</td>\n",
              "      <td>0.000000</td>\n",
              "      <td>0.000000</td>\n",
              "      <td>0.000000</td>\n",
              "      <td>0.000000</td>\n",
              "      <td>0.000000</td>\n",
              "      <td>0.000000</td>\n",
              "    </tr>\n",
              "    <tr>\n",
              "      <th>25%</th>\n",
              "      <td>0.000000</td>\n",
              "      <td>0.000000</td>\n",
              "      <td>15.000000</td>\n",
              "      <td>11.000000</td>\n",
              "      <td>174.000000</td>\n",
              "      <td>0.000000</td>\n",
              "      <td>0.000000</td>\n",
              "      <td>0.000000</td>\n",
              "      <td>0.000000</td>\n",
              "      <td>0.000000</td>\n",
              "      <td>1.000000</td>\n",
              "    </tr>\n",
              "    <tr>\n",
              "      <th>50%</th>\n",
              "      <td>0.000000</td>\n",
              "      <td>0.000000</td>\n",
              "      <td>15.000000</td>\n",
              "      <td>11.000000</td>\n",
              "      <td>367.000000</td>\n",
              "      <td>0.000000</td>\n",
              "      <td>0.000000</td>\n",
              "      <td>0.000000</td>\n",
              "      <td>0.000000</td>\n",
              "      <td>0.000000</td>\n",
              "      <td>1.000000</td>\n",
              "    </tr>\n",
              "    <tr>\n",
              "      <th>75%</th>\n",
              "      <td>0.000000</td>\n",
              "      <td>0.000000</td>\n",
              "      <td>17.000000</td>\n",
              "      <td>48.000000</td>\n",
              "      <td>453.000000</td>\n",
              "      <td>0.000000</td>\n",
              "      <td>0.000000</td>\n",
              "      <td>0.000000</td>\n",
              "      <td>0.000000</td>\n",
              "      <td>1.000000</td>\n",
              "      <td>1.000000</td>\n",
              "    </tr>\n",
              "    <tr>\n",
              "      <th>max</th>\n",
              "      <td>3.000000</td>\n",
              "      <td>3.000000</td>\n",
              "      <td>17.000000</td>\n",
              "      <td>72.000000</td>\n",
              "      <td>748.000000</td>\n",
              "      <td>3.000000</td>\n",
              "      <td>3.000000</td>\n",
              "      <td>3.000000</td>\n",
              "      <td>3.000000</td>\n",
              "      <td>1.000000</td>\n",
              "      <td>1.000000</td>\n",
              "    </tr>\n",
              "  </tbody>\n",
              "</table>\n",
              "</div>"
            ],
            "text/plain": [
              "           glipizide      glyburide  ...         change    diabetesMed\n",
              "count  101766.000000  101766.000000  ...  101766.000000  101766.000000\n",
              "mean        0.353340       0.292455  ...       0.461952       0.770031\n",
              "std         0.953437       0.874529  ...       0.498553       0.420815\n",
              "min         0.000000       0.000000  ...       0.000000       0.000000\n",
              "25%         0.000000       0.000000  ...       0.000000       1.000000\n",
              "50%         0.000000       0.000000  ...       0.000000       1.000000\n",
              "75%         0.000000       0.000000  ...       1.000000       1.000000\n",
              "max         3.000000       3.000000  ...       1.000000       1.000000\n",
              "\n",
              "[8 rows x 11 columns]"
            ]
          },
          "execution_count": 23,
          "metadata": {},
          "output_type": "execute_result"
        }
      ]
    },
    {
      "cell_type": "markdown",
      "metadata": {
        "id": "vXr06CCDM389"
      },
      "source": [
        "## Part 2: Train models"
      ]
    },
    {
      "cell_type": "markdown",
      "metadata": {
        "id": "3z1XO8nAM389"
      },
      "source": [
        "### Part 2.1: Logistic Regression"
      ]
    },
    {
      "cell_type": "code",
      "metadata": {
        "id": "v14yKmEjOEcj"
      },
      "source": [
        "X = all_features[final_selected_features]\n",
        "y = insulin"
      ],
      "execution_count": null,
      "outputs": []
    },
    {
      "cell_type": "code",
      "metadata": {
        "id": "4IPeov60Q6Rp"
      },
      "source": [
        "from sklearn.metrics import accuracy_score\n",
        "import sklearn.metrics as metrics\n",
        "from sklearn.metrics import f1_score\n",
        "from sklearn.metrics import recall_score\n",
        "from sklearn.metrics import precision_score                                             \n",
        "import sklearn\n",
        "from sklearn.utils import resample\n",
        "from sklearn.model_selection import train_test_split\n",
        "from sklearn.metrics import confusion_matrix, classification_report\n",
        "\n",
        "# Split data\n",
        "X_train,X_test,y_train,y_test = train_test_split(X, y, test_size=0.2, random_state = 1)"
      ],
      "execution_count": null,
      "outputs": []
    },
    {
      "cell_type": "code",
      "metadata": {
        "colab": {
          "base_uri": "https://localhost:8080/"
        },
        "id": "P_SiA0N6M389",
        "outputId": "59e32562-29b6-405c-84e3-9c3ffb3e6ea7"
      },
      "source": [
        "# Now we have selected features and our target. We can start working on our model.\n",
        "# Let's first try logisitic regression\n",
        "\n",
        "# evaluate multinomial logistic regression model\n",
        "\n",
        "from sklearn.linear_model import LogisticRegression\n",
        "\n",
        "# define the multinomial logistic regression model\n",
        "logistic_model = LogisticRegression(multi_class='multinomial', solver='lbfgs')\n",
        "\n",
        "# train the model\n",
        "logistic_model.fit(X_train, y_train)\n",
        "prediction = logistic_model.predict(X_test)\n",
        "\n",
        "# evaluation: All score are calculated based on weighted score except model testing accuracy\n",
        "print(\"Model: Logistic Regression\")\n",
        "print(classification_report(y_test, prediction))\n"
      ],
      "execution_count": null,
      "outputs": [
        {
          "name": "stdout",
          "output_type": "stream",
          "text": [
            "Model: Logistic Regression\n",
            "              precision    recall  f1-score   support\n",
            "\n",
            "           0       0.78      0.80      0.79      9549\n",
            "           1       0.34      0.10      0.15      2249\n",
            "           2       0.37      0.28      0.32      2410\n",
            "           3       0.46      0.59      0.52      6146\n",
            "\n",
            "    accuracy                           0.60     20354\n",
            "   macro avg       0.48      0.44      0.44     20354\n",
            "weighted avg       0.58      0.60      0.58     20354\n",
            "\n"
          ]
        },
        {
          "name": "stderr",
          "output_type": "stream",
          "text": [
            "/usr/local/lib/python3.7/dist-packages/sklearn/linear_model/_logistic.py:818: ConvergenceWarning: lbfgs failed to converge (status=1):\n",
            "STOP: TOTAL NO. of ITERATIONS REACHED LIMIT.\n",
            "\n",
            "Increase the number of iterations (max_iter) or scale the data as shown in:\n",
            "    https://scikit-learn.org/stable/modules/preprocessing.html\n",
            "Please also refer to the documentation for alternative solver options:\n",
            "    https://scikit-learn.org/stable/modules/linear_model.html#logistic-regression\n",
            "  extra_warning_msg=_LOGISTIC_SOLVER_CONVERGENCE_MSG,\n"
          ]
        }
      ]
    },
    {
      "cell_type": "markdown",
      "metadata": {
        "id": "M4unQ0uGP24N"
      },
      "source": [
        "This is the highest score we can get using logisitc regression by selecting the first 11 features."
      ]
    },
    {
      "cell_type": "markdown",
      "metadata": {
        "id": "P4n9nXKjQBE0"
      },
      "source": [
        "### Part 2.2: Naive Bayes"
      ]
    },
    {
      "cell_type": "code",
      "metadata": {
        "colab": {
          "base_uri": "https://localhost:8080/"
        },
        "id": "Y8pS9WrtOJCh",
        "outputId": "6c36ae0f-ef13-481c-d34e-0f8bc652f52c"
      },
      "source": [
        "# Now, after using the logisitc regression, let's try multinomial naive bayes on this problem.\n",
        "from sklearn.naive_bayes import MultinomialNB\n",
        "\n",
        "# define naive bayes model\n",
        "nb_model = MultinomialNB()\n",
        "\n",
        "# train the model\n",
        "nb_model.fit(X_train, y_train)\n",
        "prediction = nb_model.predict(X_test)\n",
        "\n",
        "# evaluate the model\n",
        "# evaluation: All score are calculated based on weighted score except model testing accuracy\n",
        "print(\"Model: Multinomial Naive Bayes\")\n",
        "print(classification_report(y_test, prediction))"
      ],
      "execution_count": null,
      "outputs": [
        {
          "name": "stdout",
          "output_type": "stream",
          "text": [
            "Model: Multinomial Naive Bayes\n",
            "              precision    recall  f1-score   support\n",
            "\n",
            "           0       0.66      0.67      0.67      9549\n",
            "           1       0.33      0.38      0.35      2249\n",
            "           2       0.35      0.02      0.04      2410\n",
            "           3       0.34      0.44      0.38      6146\n",
            "\n",
            "    accuracy                           0.49     20354\n",
            "   macro avg       0.42      0.38      0.36     20354\n",
            "weighted avg       0.49      0.49      0.47     20354\n",
            "\n"
          ]
        }
      ]
    },
    {
      "cell_type": "markdown",
      "metadata": {
        "id": "KUrKlkAEWDBR"
      },
      "source": [
        "### Part 2.3: Passive Aggressive Classifier"
      ]
    },
    {
      "cell_type": "code",
      "metadata": {
        "colab": {
          "base_uri": "https://localhost:8080/"
        },
        "id": "w5yyPGQoVSVy",
        "outputId": "6421057a-b17c-437e-ebce-79bc19e3e725"
      },
      "source": [
        "# Let's try Passove Aggressive Classifier.\n",
        "from sklearn.linear_model import PassiveAggressiveClassifier\n",
        "pac_model = PassiveAggressiveClassifier(max_iter=5000, random_state=2, tol=1e-2, early_stopping= True)\n",
        "\n",
        "# train PAC\n",
        "pac_model.fit(X_train, y_train)\n",
        "prediction = pac_model.predict(X_test)\n",
        "\n",
        "# evaluate the model\n",
        "# evaluation: All score are calculated based on weighted score except model testing accuracy\n",
        "print(\"Model: PAC\")\n",
        "print(classification_report(y_test, prediction))"
      ],
      "execution_count": null,
      "outputs": [
        {
          "name": "stdout",
          "output_type": "stream",
          "text": [
            "Model: PAC\n",
            "              precision    recall  f1-score   support\n",
            "\n",
            "           0       0.94      0.59      0.72      9549\n",
            "           1       0.00      0.00      0.00      2249\n",
            "           2       0.18      0.98      0.30      2410\n",
            "           3       0.81      0.16      0.27      6146\n",
            "\n",
            "    accuracy                           0.44     20354\n",
            "   macro avg       0.48      0.43      0.32     20354\n",
            "weighted avg       0.71      0.44      0.46     20354\n",
            "\n"
          ]
        },
        {
          "name": "stderr",
          "output_type": "stream",
          "text": [
            "/usr/local/lib/python3.7/dist-packages/sklearn/metrics/_classification.py:1308: UndefinedMetricWarning: Precision and F-score are ill-defined and being set to 0.0 in labels with no predicted samples. Use `zero_division` parameter to control this behavior.\n",
            "  _warn_prf(average, modifier, msg_start, len(result))\n",
            "/usr/local/lib/python3.7/dist-packages/sklearn/metrics/_classification.py:1308: UndefinedMetricWarning: Precision and F-score are ill-defined and being set to 0.0 in labels with no predicted samples. Use `zero_division` parameter to control this behavior.\n",
            "  _warn_prf(average, modifier, msg_start, len(result))\n",
            "/usr/local/lib/python3.7/dist-packages/sklearn/metrics/_classification.py:1308: UndefinedMetricWarning: Precision and F-score are ill-defined and being set to 0.0 in labels with no predicted samples. Use `zero_division` parameter to control this behavior.\n",
            "  _warn_prf(average, modifier, msg_start, len(result))\n"
          ]
        }
      ]
    },
    {
      "cell_type": "markdown",
      "metadata": {
        "id": "oTXkzPLaZsI5"
      },
      "source": [
        "### Part 2.4: XgBoost"
      ]
    },
    {
      "cell_type": "code",
      "metadata": {
        "colab": {
          "base_uri": "https://localhost:8080/"
        },
        "id": "HUrgi0K6ZvZj",
        "outputId": "09aa5ddb-6195-49be-d4b5-3d6c818e42ec"
      },
      "source": [
        "# Now let's try the Xgboost for this problem.\n",
        "from xgboost import XGBClassifier\n",
        "model_xgb = XGBClassifie\n",
        "model_xgb.fit(X_train, y_train)\n",
        "prediction = model_xgb.predict(X_test)\n",
        "\n",
        "# evaluate the model\n",
        "# evaluation: All score are calculated based on weighted score except model testing accuracy\n",
        "print(\"Model: XgBoost\")\n",
        "print(classification_report(y_test, prediction))"
      ],
      "execution_count": null,
      "outputs": [
        {
          "name": "stdout",
          "output_type": "stream",
          "text": [
            "Model: XgBoost\n",
            "              precision    recall  f1-score   support\n",
            "\n",
            "           0       0.91      0.84      0.87      9549\n",
            "           1       0.41      0.04      0.08      2249\n",
            "           2       0.45      0.68      0.54      2410\n",
            "           3       0.67      0.84      0.75      6146\n",
            "\n",
            "    accuracy                           0.73     20354\n",
            "   macro avg       0.61      0.60      0.56     20354\n",
            "weighted avg       0.73      0.73      0.71     20354\n",
            "\n"
          ]
        }
      ]
    },
    {
      "cell_type": "markdown",
      "metadata": {
        "id": "fvU1ukReZWwq"
      },
      "source": [
        "### Part 2.5: Neural Network for Multiclass Classification"
      ]
    },
    {
      "cell_type": "code",
      "metadata": {
        "id": "u0o6cvM2XLDT"
      },
      "source": [
        "from tqdm.notebook import tqdm\n",
        "import matplotlib.pyplot as plt\n",
        "import seaborn as sns\n",
        "import torch\n",
        "import torch.nn as nn\n",
        "import torch.optim as optim\n",
        "from torch.utils.data import Dataset, DataLoader, WeightedRandomSampler\n",
        "from sklearn.preprocessing import MinMaxScaler  "
      ],
      "execution_count": null,
      "outputs": []
    },
    {
      "cell_type": "code",
      "metadata": {
        "id": "6VhFu-vVZbwE"
      },
      "source": [
        "# Split train into train-val\n",
        "X_train, X_val, y_train, y_val = train_test_split(X_train, y_train, test_size=0.1, stratify=y_train, random_state=21)"
      ],
      "execution_count": null,
      "outputs": []
    },
    {
      "cell_type": "code",
      "metadata": {
        "id": "6H7p-lUsabBh"
      },
      "source": [
        "\"\"\"\n",
        "  We scale the train and validation data with minimax scaler. We do this because we want to scale the validation and\n",
        "  test set with the same parameters as that of the train set to avoid data leakage. fit_transform calculates \n",
        "  scaling values and applies them while .transform only applies the calculated values.\n",
        "\"\"\"\n",
        "scaler = MinMaxScaler()\n",
        "X_train = scaler.fit_transform(X_train)\n",
        "X_val = scaler.transform(X_val)\n",
        "X_test = scaler.transform(X_test)\n",
        "X_train, y_train = np.array(X_train), np.array(y_train)\n",
        "X_val, y_val = np.array(X_val), np.array(y_val)\n",
        "X_test, y_test = np.array(X_test), np.array(y_test)"
      ],
      "execution_count": null,
      "outputs": []
    },
    {
      "cell_type": "code",
      "metadata": {
        "id": "wU-AkLNLc0C4"
      },
      "source": [
        "def get_class_distribution(obj):\n",
        "  # check the insulin class number distribution.\n",
        "    count_dict = {\n",
        "        \"class_0\": 0,\n",
        "        \"class_1\": 0,\n",
        "        \"class_2\": 0,\n",
        "        \"class_3\": 0,\n",
        "    }\n",
        "    \n",
        "    for i in obj:\n",
        "        if i == 0: \n",
        "            count_dict['class_0'] += 1\n",
        "        elif i == 1: \n",
        "            count_dict['class_1'] += 1\n",
        "        elif i == 2: \n",
        "            count_dict['class_2'] += 1\n",
        "        elif i == 3: \n",
        "            count_dict['class_3'] += 1            \n",
        "        else:\n",
        "            print(\"Check classes.\")\n",
        "            \n",
        "    return count_dict"
      ],
      "execution_count": null,
      "outputs": []
    },
    {
      "cell_type": "code",
      "metadata": {
        "colab": {
          "base_uri": "https://localhost:8080/",
          "height": 476
        },
        "id": "k7yw2uA2dFqK",
        "outputId": "0349306d-9a68-4a59-8a9a-da341c35726e"
      },
      "source": [
        "fig, axes = plt.subplots(nrows=1, ncols=3, figsize=(25,7))\n",
        "# Train\n",
        "sns.barplot(data = pd.DataFrame.from_dict([get_class_distribution(y_train)]).melt(), x = \"variable\", y=\"value\", hue=\"variable\",  ax=axes[0]).set_title('Class Distribution in Train Set')\n",
        "# Validation\n",
        "sns.barplot(data = pd.DataFrame.from_dict([get_class_distribution(y_val)]).melt(), x = \"variable\", y=\"value\", hue=\"variable\",  ax=axes[1]).set_title('Class Distribution in Val Set')\n",
        "# Test\n",
        "sns.barplot(data = pd.DataFrame.from_dict([get_class_distribution(y_test)]).melt(), x = \"variable\", y=\"value\", hue=\"variable\",  ax=axes[2]).set_title('Class Distribution in Test Set')"
      ],
      "execution_count": null,
      "outputs": [
        {
          "data": {
            "text/plain": [
              "Text(0.5, 1.0, 'Class Distribution in Test Set')"
            ]
          },
          "execution_count": 30,
          "metadata": {},
          "output_type": "execute_result"
        },
        {
          "data": {
            "image/png": "[encoded data removed]",
            "text/plain": [
              "<Figure size 1800x504 with 3 Axes>"
            ]
          },
          "metadata": {},
          "output_type": "display_data"
        }
      ]
    },
    {
      "cell_type": "markdown",
      "metadata": {
        "id": "4JraEQdZ0K5N"
      },
      "source": [
        "We can clearly see that the class in the target set are highly imbalanced. This is also proved in the first part."
      ]
    },
    {
      "cell_type": "code",
      "metadata": {
        "id": "Jy-D-UvDbDxG"
      },
      "source": [
        "class ClassifierDataset(Dataset):\n",
        "    \n",
        "    def __init__(self, X_data, y_data):\n",
        "        self.X_data = X_data\n",
        "        self.y_data = y_data\n",
        "        \n",
        "    def __getitem__(self, index):\n",
        "        return self.X_data[index], self.y_data[index]\n",
        "        \n",
        "    def __len__ (self):\n",
        "        return len(self.X_data)\n",
        "\n",
        "\n",
        "train_dataset = ClassifierDataset(torch.from_numpy(X_train).float(), torch.from_numpy(y_train).long())\n",
        "val_dataset = ClassifierDataset(torch.from_numpy(X_val).float(), torch.from_numpy(y_val).long())\n",
        "test_dataset = ClassifierDataset(torch.from_numpy(X_test).float(), torch.from_numpy(y_test).long())\n",
        "\n",
        "target_list = []\n",
        "for _, t in train_dataset:\n",
        "    target_list.append(t)\n",
        "    \n",
        "target_list = torch.tensor(target_list)"
      ],
      "execution_count": null,
      "outputs": []
    },
    {
      "cell_type": "code",
      "metadata": {
        "colab": {
          "base_uri": "https://localhost:8080/"
        },
        "id": "nkPzTSyMcTT0",
        "outputId": "9dc760e1-fc44-4dbe-b58c-5ab9a7215064"
      },
      "source": [
        "class_count = [i for i in get_class_distribution(y_train).values()]\n",
        "class_weights = 1./torch.tensor(class_count, dtype=torch.float) \n",
        "print(class_weights)"
      ],
      "execution_count": null,
      "outputs": [
        {
          "name": "stdout",
          "output_type": "stream",
          "text": [
            "tensor([2.9369e-05, 1.2255e-04, 1.1329e-04, 4.4978e-05])\n"
          ]
        }
      ]
    },
    {
      "cell_type": "code",
      "metadata": {
        "id": "BkqDc2Dycbn0"
      },
      "source": [
        "# We get the class weight for balanced sampling during the data loading process\n",
        "class_weights_all = class_weights[target_list]"
      ],
      "execution_count": null,
      "outputs": []
    },
    {
      "cell_type": "code",
      "metadata": {
        "id": "WAP5xXPCddOx"
      },
      "source": [
        "# define the weighted_sampler for Dataloader\n",
        "weighted_sampler = WeightedRandomSampler(\n",
        "    weights=class_weights_all,\n",
        "    num_samples=len(class_weights_all),\n",
        "    replacement=True\n",
        ")"
      ],
      "execution_count": null,
      "outputs": []
    },
    {
      "cell_type": "code",
      "metadata": {
        "id": "aHN7RUgGdoBw"
      },
      "source": [
        "# Start FNN training\n",
        "\n",
        "# Configure hyperparameters\n",
        "EPOCHS = 300\n",
        "BATCH_SIZE = 32\n",
        "LEARNING_RATE = 0.008\n",
        "NUM_FEATURES = len(X.columns)\n",
        "NUM_CLASSES = 4\n",
        "\n",
        "# load data using Dataloader\n",
        "train_loader = DataLoader(dataset=train_dataset,\n",
        "                          batch_size=BATCH_SIZE,\n",
        "                          sampler=weighted_sampler\n",
        ")\n",
        "val_loader = DataLoader(dataset=val_dataset, batch_size=1)\n",
        "test_loader = DataLoader(dataset=test_dataset, batch_size=1)\n",
        "\n",
        "class MulticlassClassification(nn.Module):\n",
        "    '''\n",
        "      Define a 4 layer neural network with ReLu activation.\n",
        "    '''\n",
        "    def __init__(self, num_feature, num_class):\n",
        "        super(MulticlassClassification, self).__init__()\n",
        "        \n",
        "        self.layer_1 = nn.Linear(num_feature, 64)\n",
        "        self.layer_2 = nn.Linear(64, 32)\n",
        "        self.layer_3 = nn.Linear(32, 16)\n",
        "        self.layer_4 = nn.Linear(16,8)\n",
        "        self.layer_out = nn.Linear(8, num_class) \n",
        "        \n",
        "        self.leaky_relu = nn.LeakyReLU(0.1)\n",
        "        self.tanh = nn.Tanh()\n",
        "        self.softmax = nn.Softmax()\n",
        "        self.dropout = nn.Dropout(p=0.1)\n",
        "        self.batchnorm1 = nn.BatchNorm1d(64)\n",
        "        self.batchnorm2 = nn.BatchNorm1d(32)\n",
        "        self.batchnorm3 = nn.BatchNorm1d(16)\n",
        "        self.batchnorm4 = nn.BatchNorm1d(8)\n",
        "        \n",
        "    def forward(self, x):\n",
        "        x = self.layer_1(x)\n",
        "        x = self.batchnorm1(x)\n",
        "        x = self.tanh(x)\n",
        "        \n",
        "        x = self.layer_2(x)\n",
        "        x = self.batchnorm2(x)\n",
        "        x = self.leaky_relu(x)\n",
        "        x = self.dropout(x)\n",
        "        \n",
        "        x = self.layer_3(x)\n",
        "        x = self.batchnorm3(x)\n",
        "        x = self.leaky_relu(x)\n",
        "        x = self.dropout(x)\n",
        "\n",
        "        x = self.layer_4(x)\n",
        "        x = self.batchnorm4(x)\n",
        "        x = self.leaky_relu(x)\n",
        "        x = self.dropout(x)\n",
        "        \n",
        "        x = self.layer_out(x)\n",
        "        x = self.softmax(x)\n",
        "        \n",
        "        return x\n"
      ],
      "execution_count": null,
      "outputs": []
    },
    {
      "cell_type": "code",
      "metadata": {
        "colab": {
          "base_uri": "https://localhost:8080/"
        },
        "id": "BnjAYp84d9zf",
        "outputId": "59d3973b-c8a5-46fa-f564-3e07090a9014"
      },
      "source": [
        "# check whether GPU is available\n",
        "device = torch.device(\"cuda:0\" if torch.cuda.is_available() else \"cpu\")\n",
        "print(device)"
      ],
      "execution_count": null,
      "outputs": [
        {
          "name": "stdout",
          "output_type": "stream",
          "text": [
            "cuda:0\n"
          ]
        }
      ]
    },
    {
      "cell_type": "code",
      "metadata": {
        "colab": {
          "base_uri": "https://localhost:8080/"
        },
        "id": "McRgPhb5eD4O",
        "outputId": "f9d84be0-cb76-47bd-cd73-83d10a2284f8"
      },
      "source": [
        "# define model and check all model configurations\n",
        "# in this problem, we use adam as our optimizer.\n",
        "model = MulticlassClassification(num_feature = NUM_FEATURES, num_class=NUM_CLASSES)\n",
        "model.to(device)\n",
        "\n",
        "criterion = nn.CrossEntropyLoss(weight=class_weights.to(device))\n",
        "optimizer = optim.Adam(model.parameters(), lr=LEARNING_RATE)\n",
        "print(model)"
      ],
      "execution_count": null,
      "outputs": [
        {
          "name": "stdout",
          "output_type": "stream",
          "text": [
            "MulticlassClassification(\n",
            "  (layer_1): Linear(in_features=11, out_features=64, bias=True)\n",
            "  (layer_2): Linear(in_features=64, out_features=32, bias=True)\n",
            "  (layer_3): Linear(in_features=32, out_features=16, bias=True)\n",
            "  (layer_4): Linear(in_features=16, out_features=8, bias=True)\n",
            "  (layer_out): Linear(in_features=8, out_features=4, bias=True)\n",
            "  (leaky_relu): LeakyReLU(negative_slope=0.1)\n",
            "  (tanh): Tanh()\n",
            "  (softmax): Softmax(dim=None)\n",
            "  (dropout): Dropout(p=0.1, inplace=False)\n",
            "  (batchnorm1): BatchNorm1d(64, eps=1e-05, momentum=0.1, affine=True, track_running_stats=True)\n",
            "  (batchnorm2): BatchNorm1d(32, eps=1e-05, momentum=0.1, affine=True, track_running_stats=True)\n",
            "  (batchnorm3): BatchNorm1d(16, eps=1e-05, momentum=0.1, affine=True, track_running_stats=True)\n",
            "  (batchnorm4): BatchNorm1d(8, eps=1e-05, momentum=0.1, affine=True, track_running_stats=True)\n",
            ")\n"
          ]
        }
      ]
    },
    {
      "cell_type": "code",
      "metadata": {
        "colab": {
          "base_uri": "https://localhost:8080/"
        },
        "id": "ktZwTy2Eav8U",
        "outputId": "66e8fc50-b452-4adc-eae2-2f9b92ebc84a"
      },
      "source": [
        "from prettytable import PrettyTable\n",
        "\n",
        "def count_parameters(model):\n",
        "    table = PrettyTable([\"Modules\", \"Parameters\"])\n",
        "    total_params = 0\n",
        "    for name, parameter in model.named_parameters():\n",
        "        if not parameter.requires_grad: continue\n",
        "        param = parameter.numel()\n",
        "        table.add_row([name, param])\n",
        "        total_params+=param\n",
        "    print(table)\n",
        "    print(f\"Total Trainable Params: {total_params}\")\n",
        "    return total_params\n",
        "    \n",
        "count_parameters(model)"
      ],
      "execution_count": null,
      "outputs": [
        {
          "name": "stdout",
          "output_type": "stream",
          "text": [
            "+-------------------+------------+\n",
            "|      Modules      | Parameters |\n",
            "+-------------------+------------+\n",
            "|   layer_1.weight  |    704     |\n",
            "|    layer_1.bias   |     64     |\n",
            "|   layer_2.weight  |    2048    |\n",
            "|    layer_2.bias   |     32     |\n",
            "|   layer_3.weight  |    512     |\n",
            "|    layer_3.bias   |     16     |\n",
            "|   layer_4.weight  |    128     |\n",
            "|    layer_4.bias   |     8      |\n",
            "|  layer_out.weight |     32     |\n",
            "|   layer_out.bias  |     4      |\n",
            "| batchnorm1.weight |     64     |\n",
            "|  batchnorm1.bias  |     64     |\n",
            "| batchnorm2.weight |     32     |\n",
            "|  batchnorm2.bias  |     32     |\n",
            "| batchnorm3.weight |     16     |\n",
            "|  batchnorm3.bias  |     16     |\n",
            "| batchnorm4.weight |     8      |\n",
            "|  batchnorm4.bias  |     8      |\n",
            "+-------------------+------------+\n",
            "Total Trainable Params: 3788\n"
          ]
        },
        {
          "data": {
            "text/plain": [
              "3788"
            ]
          },
          "execution_count": 44,
          "metadata": {},
          "output_type": "execute_result"
        }
      ]
    },
    {
      "cell_type": "code",
      "metadata": {
        "id": "AlTANAg0eV4c"
      },
      "source": [
        "def multi_acc(y_pred, y_test):\n",
        "    y_pred_softmax = torch.log_softmax(y_pred, dim = 1)\n",
        "    _, y_pred_tags = torch.max(y_pred_softmax, dim = 1)    \n",
        "    \n",
        "    correct_pred = (y_pred_tags == y_test).float()\n",
        "    acc = correct_pred.sum() / len(correct_pred)\n",
        "    \n",
        "    acc = torch.round(acc * 100)\n",
        "    \n",
        "    return acc\n",
        "\n",
        "accuracy_stats = {\n",
        "    'train': [],\n",
        "    \"val\": []\n",
        "}\n",
        "loss_stats = {\n",
        "    'train': [],\n",
        "    \"val\": []\n",
        "}"
      ],
      "execution_count": null,
      "outputs": []
    },
    {
      "cell_type": "code",
      "metadata": {
        "colab": {
          "background_save": true,
          "base_uri": "https://localhost:8080/",
          "height": 511,
          "referenced_widgets": [
            "7c5ea98ae1914ce481a21bc087944b14",
            "9c2510ab2ad1443989e84256ce599784",
            "2db988afbfaa41dfbc7ffb73303fc2ac",
            "ec5a6c0cd63b47dca12b7b2c0ea9cd00",
            "869be4e5771044bd94c5c80ee7a34d1c",
            "6979cdb9b1764954b2954f0918611a88",
            "22f47cf9a25243b4902245b0dd6c0543",
            "2404254633fd486cb6c1c959006f7e43",
            "5e4f7bcc9d274aff8efeda3928a4f023",
            "a412013e5ec947feb61bb0e513ff42dd",
            "82775a21894747ea90624655a7ff1086"
          ]
        },
        "id": "bexi3sFpedh2",
        "outputId": "5aa8a902-648f-4fde-8650-6efcbbdb69eb"
      },
      "source": [
        "# Start training the Neural Network.\n",
        "print(\"Begin training.\")\n",
        "for e in tqdm(range(1, EPOCHS+1)):\n",
        "    \n",
        "    # TRAINING\n",
        "    train_epoch_loss = 0\n",
        "    train_epoch_acc = 0\n",
        "    model.train()\n",
        "    for X_train_batch, y_train_batch in train_loader:\n",
        "        X_train_batch, y_train_batch = X_train_batch.to(device), y_train_batch.to(device)\n",
        "        optimizer.zero_grad()\n",
        "        \n",
        "        y_train_pred = model(X_train_batch)\n",
        "        \n",
        "        train_loss = criterion(y_train_pred, y_train_batch)\n",
        "        train_acc = multi_acc(y_train_pred, y_train_batch)\n",
        "        \n",
        "        train_loss.backward()\n",
        "        optimizer.step()\n",
        "        \n",
        "        train_epoch_loss += train_loss.item()\n",
        "        train_epoch_acc += train_acc.item()\n",
        "        \n",
        "        \n",
        "    # VALIDATION    \n",
        "    with torch.no_grad():\n",
        "        \n",
        "        val_epoch_loss = 0\n",
        "        val_epoch_acc = 0\n",
        "        \n",
        "        model.eval()\n",
        "        for X_val_batch, y_val_batch in val_loader:\n",
        "            X_val_batch, y_val_batch = X_val_batch.to(device), y_val_batch.to(device)\n",
        "            \n",
        "            y_val_pred = model(X_val_batch)\n",
        "                        \n",
        "            val_loss = criterion(y_val_pred, y_val_batch)\n",
        "            val_acc = multi_acc(y_val_pred, y_val_batch)\n",
        "            \n",
        "            val_epoch_loss += val_loss.item()\n",
        "            val_epoch_acc += val_acc.item()\n",
        "    loss_stats['train'].append(train_epoch_loss/len(train_loader))\n",
        "    loss_stats['val'].append(val_epoch_loss/len(val_loader))\n",
        "    accuracy_stats['train'].append(train_epoch_acc/len(train_loader))\n",
        "    accuracy_stats['val'].append(val_epoch_acc/len(val_loader))\n",
        "                              \n",
        "    \n",
        "    print(f'Epoch {e+0:03}: | Train Loss: {train_epoch_loss/len(train_loader):.5f} | Val Loss: {val_epoch_loss/len(val_loader):.5f} | Train Acc: {train_epoch_acc/len(train_loader):.3f}| Val Acc: {val_epoch_acc/len(val_loader):.3f}')"
      ],
      "execution_count": null,
      "outputs": [
        {
          "name": "stdout",
          "output_type": "stream",
          "text": [
            "Begin training.\n"
          ]
        },
        {
          "data": {
            "application/vnd.jupyter.widget-view+json": {
              "model_id": "7c5ea98ae1914ce481a21bc087944b14",
              "version_major": 2,
              "version_minor": 0
            },
            "text/plain": [
              "  0%|          | 0/300 [00:00<?, ?it/s]"
            ]
          },
          "metadata": {},
          "output_type": "display_data"
        },
        {
          "name": "stderr",
          "output_type": "stream",
          "text": [
            "/usr/local/lib/python3.7/dist-packages/ipykernel_launcher.py:61: UserWarning: Implicit dimension choice for softmax has been deprecated. Change the call to include dim=X as an argument.\n"
          ]
        },
        {
          "name": "stdout",
          "output_type": "stream",
          "text": [
            "Epoch 001: | Train Loss: 1.15911 | Val Loss: 1.08163 | Train Acc: 56.103| Val Acc: 63.105\n",
            "Epoch 002: | Train Loss: 1.15245 | Val Loss: 1.08186 | Train Acc: 56.879| Val Acc: 62.245\n",
            "Epoch 003: | Train Loss: 1.15077 | Val Loss: 1.08217 | Train Acc: 57.351| Val Acc: 63.228\n",
            "Epoch 004: | Train Loss: 1.15030 | Val Loss: 1.08087 | Train Acc: 57.641| Val Acc: 63.203\n",
            "Epoch 005: | Train Loss: 1.14988 | Val Loss: 1.08105 | Train Acc: 57.693| Val Acc: 62.921\n",
            "Epoch 006: | Train Loss: 1.14998 | Val Loss: 1.08075 | Train Acc: 57.708| Val Acc: 63.129\n",
            "Epoch 007: | Train Loss: 1.14948 | Val Loss: 1.08220 | Train Acc: 57.800| Val Acc: 63.007\n",
            "Epoch 008: | Train Loss: 1.14965 | Val Loss: 1.08126 | Train Acc: 57.698| Val Acc: 63.105\n",
            "Epoch 009: | Train Loss: 1.14865 | Val Loss: 1.08652 | Train Acc: 58.124| Val Acc: 62.859\n",
            "Epoch 010: | Train Loss: 1.14961 | Val Loss: 1.08147 | Train Acc: 57.598| Val Acc: 62.994\n",
            "Epoch 011: | Train Loss: 1.14795 | Val Loss: 1.08119 | Train Acc: 58.093| Val Acc: 63.105\n",
            "Epoch 012: | Train Loss: 1.14849 | Val Loss: 1.08377 | Train Acc: 57.999| Val Acc: 62.884\n",
            "Epoch 013: | Train Loss: 1.14834 | Val Loss: 1.08373 | Train Acc: 57.982| Val Acc: 62.896\n",
            "Epoch 014: | Train Loss: 1.14868 | Val Loss: 1.08239 | Train Acc: 58.025| Val Acc: 62.933\n",
            "Epoch 015: | Train Loss: 1.14704 | Val Loss: 1.08105 | Train Acc: 58.372| Val Acc: 63.228\n",
            "Epoch 016: | Train Loss: 1.14684 | Val Loss: 1.08282 | Train Acc: 58.464| Val Acc: 63.117\n",
            "Epoch 017: | Train Loss: 1.14691 | Val Loss: 1.08104 | Train Acc: 58.417| Val Acc: 63.240\n",
            "Epoch 018: | Train Loss: 1.14768 | Val Loss: 1.08174 | Train Acc: 58.175| Val Acc: 62.786\n",
            "Epoch 019: | Train Loss: 1.14675 | Val Loss: 1.08241 | Train Acc: 58.432| Val Acc: 63.080\n",
            "Epoch 020: | Train Loss: 1.14775 | Val Loss: 1.08151 | Train Acc: 58.078| Val Acc: 63.154\n",
            "Epoch 021: | Train Loss: 1.14716 | Val Loss: 1.08183 | Train Acc: 58.060| Val Acc: 63.080\n",
            "Epoch 022: | Train Loss: 1.14737 | Val Loss: 1.08177 | Train Acc: 58.160| Val Acc: 62.786\n",
            "Epoch 023: | Train Loss: 1.14657 | Val Loss: 1.08278 | Train Acc: 58.511| Val Acc: 62.933\n",
            "Epoch 024: | Train Loss: 1.14747 | Val Loss: 1.08184 | Train Acc: 58.230| Val Acc: 63.007\n",
            "Epoch 025: | Train Loss: 1.14902 | Val Loss: 1.08117 | Train Acc: 57.881| Val Acc: 63.043\n",
            "Epoch 026: | Train Loss: 1.14653 | Val Loss: 1.08071 | Train Acc: 58.478| Val Acc: 63.387\n",
            "Epoch 027: | Train Loss: 1.14592 | Val Loss: 1.08216 | Train Acc: 58.654| Val Acc: 62.970\n",
            "Epoch 028: | Train Loss: 1.14556 | Val Loss: 1.08403 | Train Acc: 58.692| Val Acc: 62.761\n",
            "Epoch 029: | Train Loss: 1.14507 | Val Loss: 1.08240 | Train Acc: 58.656| Val Acc: 63.105\n",
            "Epoch 030: | Train Loss: 1.14563 | Val Loss: 1.08223 | Train Acc: 58.521| Val Acc: 63.043\n",
            "Epoch 031: | Train Loss: 1.14481 | Val Loss: 1.08360 | Train Acc: 58.737| Val Acc: 62.872\n",
            "Epoch 032: | Train Loss: 1.14577 | Val Loss: 1.08304 | Train Acc: 58.426| Val Acc: 63.215\n",
            "Epoch 033: | Train Loss: 1.14544 | Val Loss: 1.08227 | Train Acc: 58.595| Val Acc: 62.564\n",
            "Epoch 034: | Train Loss: 1.14393 | Val Loss: 1.08409 | Train Acc: 58.898| Val Acc: 62.945\n",
            "Epoch 035: | Train Loss: 1.14663 | Val Loss: 1.08242 | Train Acc: 58.269| Val Acc: 63.019\n",
            "Epoch 036: | Train Loss: 1.14689 | Val Loss: 1.08242 | Train Acc: 58.286| Val Acc: 62.798\n",
            "Epoch 037: | Train Loss: 1.14588 | Val Loss: 1.08209 | Train Acc: 58.391| Val Acc: 62.958\n",
            "Epoch 038: | Train Loss: 1.14651 | Val Loss: 1.08200 | Train Acc: 58.248| Val Acc: 63.203\n",
            "Epoch 039: | Train Loss: 1.14450 | Val Loss: 1.08209 | Train Acc: 58.749| Val Acc: 63.142\n",
            "Epoch 040: | Train Loss: 1.14530 | Val Loss: 1.08113 | Train Acc: 58.693| Val Acc: 63.215\n",
            "Epoch 041: | Train Loss: 1.14484 | Val Loss: 1.08437 | Train Acc: 58.565| Val Acc: 62.773\n",
            "Epoch 042: | Train Loss: 1.14557 | Val Loss: 1.08504 | Train Acc: 58.458| Val Acc: 62.822\n",
            "Epoch 043: | Train Loss: 1.14321 | Val Loss: 1.08234 | Train Acc: 59.060| Val Acc: 63.093\n",
            "Epoch 044: | Train Loss: 1.14574 | Val Loss: 1.08323 | Train Acc: 58.497| Val Acc: 62.810\n",
            "Epoch 045: | Train Loss: 1.14390 | Val Loss: 1.08340 | Train Acc: 58.851| Val Acc: 63.277\n",
            "Epoch 046: | Train Loss: 1.14506 | Val Loss: 1.08238 | Train Acc: 58.759| Val Acc: 63.240\n",
            "Epoch 047: | Train Loss: 1.14531 | Val Loss: 1.08454 | Train Acc: 58.653| Val Acc: 63.068\n",
            "Epoch 048: | Train Loss: 1.14416 | Val Loss: 1.08270 | Train Acc: 58.823| Val Acc: 63.240\n",
            "Epoch 049: | Train Loss: 1.14401 | Val Loss: 1.08452 | Train Acc: 58.815| Val Acc: 62.970\n",
            "Epoch 050: | Train Loss: 1.14440 | Val Loss: 1.08466 | Train Acc: 58.615| Val Acc: 63.019\n",
            "Epoch 051: | Train Loss: 1.14529 | Val Loss: 1.08308 | Train Acc: 58.413| Val Acc: 62.994\n",
            "Epoch 052: | Train Loss: 1.14368 | Val Loss: 1.08208 | Train Acc: 58.886| Val Acc: 63.191\n",
            "Epoch 053: | Train Loss: 1.14405 | Val Loss: 1.08175 | Train Acc: 58.791| Val Acc: 63.326\n",
            "Epoch 054: | Train Loss: 1.14537 | Val Loss: 1.08447 | Train Acc: 58.416| Val Acc: 63.019\n",
            "Epoch 055: | Train Loss: 1.14538 | Val Loss: 1.08337 | Train Acc: 58.591| Val Acc: 62.675\n",
            "Epoch 056: | Train Loss: 1.14487 | Val Loss: 1.08301 | Train Acc: 58.494| Val Acc: 63.240\n",
            "Epoch 057: | Train Loss: 1.14467 | Val Loss: 1.08319 | Train Acc: 58.723| Val Acc: 62.798\n",
            "Epoch 058: | Train Loss: 1.14508 | Val Loss: 1.08357 | Train Acc: 58.595| Val Acc: 62.675\n",
            "Epoch 059: | Train Loss: 1.14455 | Val Loss: 1.08342 | Train Acc: 58.630| Val Acc: 63.117\n",
            "Epoch 060: | Train Loss: 1.14370 | Val Loss: 1.08368 | Train Acc: 58.866| Val Acc: 63.265\n",
            "Epoch 061: | Train Loss: 1.14520 | Val Loss: 1.08277 | Train Acc: 58.510| Val Acc: 62.847\n",
            "Epoch 062: | Train Loss: 1.14464 | Val Loss: 1.08234 | Train Acc: 58.749| Val Acc: 63.129\n",
            "Epoch 063: | Train Loss: 1.14292 | Val Loss: 1.08118 | Train Acc: 59.100| Val Acc: 63.326\n",
            "Epoch 064: | Train Loss: 1.14417 | Val Loss: 1.08429 | Train Acc: 58.790| Val Acc: 62.835\n",
            "Epoch 065: | Train Loss: 1.14397 | Val Loss: 1.08447 | Train Acc: 58.717| Val Acc: 63.007\n",
            "Epoch 066: | Train Loss: 1.14333 | Val Loss: 1.08463 | Train Acc: 58.901| Val Acc: 62.761\n",
            "Epoch 067: | Train Loss: 1.14413 | Val Loss: 1.08315 | Train Acc: 58.661| Val Acc: 62.933\n",
            "Epoch 068: | Train Loss: 1.14465 | Val Loss: 1.08300 | Train Acc: 58.559| Val Acc: 62.994\n",
            "Epoch 069: | Train Loss: 1.14299 | Val Loss: 1.08511 | Train Acc: 58.834| Val Acc: 62.798\n",
            "Epoch 070: | Train Loss: 1.14497 | Val Loss: 1.08350 | Train Acc: 58.690| Val Acc: 63.019\n",
            "Epoch 071: | Train Loss: 1.14445 | Val Loss: 1.08219 | Train Acc: 58.459| Val Acc: 62.872\n",
            "Epoch 072: | Train Loss: 1.14467 | Val Loss: 1.08323 | Train Acc: 58.422| Val Acc: 63.080\n",
            "Epoch 073: | Train Loss: 1.14345 | Val Loss: 1.08205 | Train Acc: 58.841| Val Acc: 63.326\n",
            "Epoch 074: | Train Loss: 1.14301 | Val Loss: 1.08452 | Train Acc: 59.009| Val Acc: 63.031\n",
            "Epoch 075: | Train Loss: 1.14452 | Val Loss: 1.08339 | Train Acc: 58.518| Val Acc: 63.203\n",
            "Epoch 076: | Train Loss: 1.14372 | Val Loss: 1.08445 | Train Acc: 58.800| Val Acc: 62.970\n",
            "Epoch 077: | Train Loss: 1.14394 | Val Loss: 1.08316 | Train Acc: 58.798| Val Acc: 63.166\n",
            "Epoch 078: | Train Loss: 1.14313 | Val Loss: 1.08392 | Train Acc: 58.842| Val Acc: 62.835\n",
            "Epoch 079: | Train Loss: 1.14384 | Val Loss: 1.08338 | Train Acc: 58.673| Val Acc: 62.835\n",
            "Epoch 080: | Train Loss: 1.14344 | Val Loss: 1.08359 | Train Acc: 58.942| Val Acc: 63.129\n",
            "Epoch 081: | Train Loss: 1.14386 | Val Loss: 1.08553 | Train Acc: 58.605| Val Acc: 62.773\n",
            "Epoch 082: | Train Loss: 1.14448 | Val Loss: 1.08266 | Train Acc: 58.827| Val Acc: 63.215\n",
            "Epoch 083: | Train Loss: 1.14380 | Val Loss: 1.08285 | Train Acc: 58.809| Val Acc: 63.363\n",
            "Epoch 084: | Train Loss: 1.14312 | Val Loss: 1.08599 | Train Acc: 58.799| Val Acc: 62.810\n",
            "Epoch 085: | Train Loss: 1.14347 | Val Loss: 1.08329 | Train Acc: 58.864| Val Acc: 62.933\n",
            "Epoch 086: | Train Loss: 1.14392 | Val Loss: 1.08279 | Train Acc: 58.720| Val Acc: 63.240\n",
            "Epoch 087: | Train Loss: 1.14356 | Val Loss: 1.08337 | Train Acc: 58.768| Val Acc: 63.240\n",
            "Epoch 088: | Train Loss: 1.14317 | Val Loss: 1.08567 | Train Acc: 58.887| Val Acc: 62.724\n",
            "Epoch 089: | Train Loss: 1.14256 | Val Loss: 1.08520 | Train Acc: 59.023| Val Acc: 62.798\n",
            "Epoch 090: | Train Loss: 1.14375 | Val Loss: 1.08393 | Train Acc: 58.787| Val Acc: 63.166\n",
            "Epoch 091: | Train Loss: 1.14296 | Val Loss: 1.08358 | Train Acc: 58.848| Val Acc: 62.847\n",
            "Epoch 092: | Train Loss: 1.14125 | Val Loss: 1.08501 | Train Acc: 59.133| Val Acc: 63.105\n",
            "Epoch 093: | Train Loss: 1.14291 | Val Loss: 1.08427 | Train Acc: 59.028| Val Acc: 62.884\n",
            "Epoch 094: | Train Loss: 1.14350 | Val Loss: 1.08666 | Train Acc: 58.712| Val Acc: 63.129\n",
            "Epoch 095: | Train Loss: 1.14317 | Val Loss: 1.08409 | Train Acc: 58.913| Val Acc: 63.154\n",
            "Epoch 096: | Train Loss: 1.14158 | Val Loss: 1.08525 | Train Acc: 59.254| Val Acc: 63.105\n",
            "Epoch 097: | Train Loss: 1.14110 | Val Loss: 1.08443 | Train Acc: 59.281| Val Acc: 62.798\n",
            "Epoch 098: | Train Loss: 1.14309 | Val Loss: 1.08330 | Train Acc: 58.734| Val Acc: 63.068\n",
            "Epoch 099: | Train Loss: 1.14329 | Val Loss: 1.08499 | Train Acc: 58.727| Val Acc: 62.835\n",
            "Epoch 100: | Train Loss: 1.14334 | Val Loss: 1.08608 | Train Acc: 58.623| Val Acc: 62.958\n",
            "Epoch 101: | Train Loss: 1.14209 | Val Loss: 1.08289 | Train Acc: 59.018| Val Acc: 63.338\n",
            "Epoch 102: | Train Loss: 1.14217 | Val Loss: 1.08290 | Train Acc: 58.902| Val Acc: 63.289\n",
            "Epoch 103: | Train Loss: 1.14383 | Val Loss: 1.08307 | Train Acc: 58.633| Val Acc: 63.326\n",
            "Epoch 104: | Train Loss: 1.14203 | Val Loss: 1.08423 | Train Acc: 59.080| Val Acc: 63.351\n",
            "Epoch 105: | Train Loss: 1.14318 | Val Loss: 1.08551 | Train Acc: 59.012| Val Acc: 62.982\n",
            "Epoch 106: | Train Loss: 1.14171 | Val Loss: 1.08691 | Train Acc: 59.139| Val Acc: 63.338\n",
            "Epoch 107: | Train Loss: 1.14171 | Val Loss: 1.08454 | Train Acc: 59.147| Val Acc: 63.277\n",
            "Epoch 108: | Train Loss: 1.14193 | Val Loss: 1.08420 | Train Acc: 59.052| Val Acc: 62.921\n",
            "Epoch 109: | Train Loss: 1.14336 | Val Loss: 1.08544 | Train Acc: 58.881| Val Acc: 63.191\n",
            "Epoch 110: | Train Loss: 1.14297 | Val Loss: 1.08291 | Train Acc: 58.987| Val Acc: 63.105\n",
            "Epoch 111: | Train Loss: 1.14147 | Val Loss: 1.08455 | Train Acc: 59.200| Val Acc: 63.129\n",
            "Epoch 112: | Train Loss: 1.14047 | Val Loss: 1.08402 | Train Acc: 59.193| Val Acc: 63.301\n",
            "Epoch 113: | Train Loss: 1.14130 | Val Loss: 1.08290 | Train Acc: 59.230| Val Acc: 63.277\n",
            "Epoch 114: | Train Loss: 1.14100 | Val Loss: 1.08493 | Train Acc: 59.337| Val Acc: 63.117\n",
            "Epoch 115: | Train Loss: 1.14238 | Val Loss: 1.08415 | Train Acc: 58.967| Val Acc: 63.142\n",
            "Epoch 116: | Train Loss: 1.14392 | Val Loss: 1.08371 | Train Acc: 58.714| Val Acc: 63.105\n",
            "Epoch 117: | Train Loss: 1.14146 | Val Loss: 1.08313 | Train Acc: 59.300| Val Acc: 63.166\n",
            "Epoch 118: | Train Loss: 1.14106 | Val Loss: 1.08483 | Train Acc: 59.108| Val Acc: 62.896\n",
            "Epoch 119: | Train Loss: 1.14206 | Val Loss: 1.08254 | Train Acc: 59.217| Val Acc: 63.203\n",
            "Epoch 120: | Train Loss: 1.14178 | Val Loss: 1.08571 | Train Acc: 59.189| Val Acc: 63.154\n",
            "Epoch 121: | Train Loss: 1.14043 | Val Loss: 1.08256 | Train Acc: 59.412| Val Acc: 63.289\n",
            "Epoch 122: | Train Loss: 1.14111 | Val Loss: 1.08402 | Train Acc: 59.358| Val Acc: 63.437\n",
            "Epoch 123: | Train Loss: 1.14276 | Val Loss: 1.08514 | Train Acc: 59.031| Val Acc: 63.105\n",
            "Epoch 124: | Train Loss: 1.14256 | Val Loss: 1.08336 | Train Acc: 59.055| Val Acc: 62.933\n",
            "Epoch 125: | Train Loss: 1.14142 | Val Loss: 1.08225 | Train Acc: 59.177| Val Acc: 63.400\n",
            "Epoch 126: | Train Loss: 1.14131 | Val Loss: 1.08419 | Train Acc: 59.187| Val Acc: 63.179\n",
            "Epoch 127: | Train Loss: 1.14118 | Val Loss: 1.08312 | Train Acc: 59.109| Val Acc: 63.117\n",
            "Epoch 128: | Train Loss: 1.14265 | Val Loss: 1.08480 | Train Acc: 58.893| Val Acc: 62.884\n",
            "Epoch 129: | Train Loss: 1.14343 | Val Loss: 1.08265 | Train Acc: 58.783| Val Acc: 63.019\n",
            "Epoch 130: | Train Loss: 1.13945 | Val Loss: 1.08306 | Train Acc: 59.636| Val Acc: 63.117\n",
            "Epoch 131: | Train Loss: 1.14119 | Val Loss: 1.08253 | Train Acc: 59.253| Val Acc: 63.277\n",
            "Epoch 132: | Train Loss: 1.14065 | Val Loss: 1.08214 | Train Acc: 59.429| Val Acc: 63.559\n",
            "Epoch 133: | Train Loss: 1.14100 | Val Loss: 1.08614 | Train Acc: 59.305| Val Acc: 63.019\n",
            "Epoch 134: | Train Loss: 1.14197 | Val Loss: 1.08421 | Train Acc: 59.040| Val Acc: 63.105\n"
          ]
        }
      ]
    },
    {
      "cell_type": "code",
      "metadata": {
        "colab": {
          "base_uri": "https://localhost:8080/",
          "height": 475
        },
        "id": "6ZFh09lzetz1",
        "outputId": "03df7207-4023-48fa-ae87-2454281021cc"
      },
      "source": [
        "# Visualize loss and accuracy\n",
        "# Create dataframes\n",
        "train_val_acc_df = pd.DataFrame.from_dict(accuracy_stats).reset_index().melt(id_vars=['index']).rename(columns={\"index\":\"epochs\"})\n",
        "train_val_loss_df = pd.DataFrame.from_dict(loss_stats).reset_index().melt(id_vars=['index']).rename(columns={\"index\":\"epochs\"})\n",
        "# Plot the dataframes\n",
        "fig, axes = plt.subplots(nrows=1, ncols=2, figsize=(20,7))\n",
        "sns.lineplot(data=train_val_acc_df, x = \"epochs\", y=\"value\", hue=\"variable\",  ax=axes[0]).set_title('Train-Val Accuracy/Epoch')\n",
        "sns.lineplot(data=train_val_loss_df, x = \"epochs\", y=\"value\", hue=\"variable\", ax=axes[1]).set_title('Train-Val Loss/Epoch')"
      ],
      "execution_count": null,
      "outputs": [
        {
          "data": {
            "text/plain": [
              "Text(0.5, 1.0, 'Train-Val Loss/Epoch')"
            ]
          },
          "execution_count": 65,
          "metadata": {},
          "output_type": "execute_result"
        },
        {
          "data": {
            "image/png": "[encoded data removed]",
            "text/plain": [
              "<Figure size 1440x504 with 2 Axes>"
            ]
          },
          "metadata": {},
          "output_type": "display_data"
        }
      ]
    },
    {
      "cell_type": "code",
      "metadata": {
        "colab": {
          "base_uri": "https://localhost:8080/"
        },
        "id": "D0_nc-KcgsnE",
        "outputId": "e9bb2fed-676e-4694-bc58-d885399b07ec"
      },
      "source": [
        "y_pred_list = []\n",
        "with torch.no_grad():\n",
        "    model.eval()\n",
        "    for X_batch, _ in test_loader:\n",
        "        X_batch = X_batch.to(device)\n",
        "        y_test_pred = model(X_batch)\n",
        "        _, y_pred_tags = torch.max(y_test_pred, dim = 1)\n",
        "        y_pred_list.append(y_pred_tags.cpu().numpy())\n",
        "y_pred_list = [a.squeeze().tolist() for a in y_pred_list]"
      ],
      "execution_count": null,
      "outputs": [
        {
          "name": "stderr",
          "output_type": "stream",
          "text": [
            "/usr/local/lib/python3.7/dist-packages/ipykernel_launcher.py:61: UserWarning: Implicit dimension choice for softmax has been deprecated. Change the call to include dim=X as an argument.\n"
          ]
        }
      ]
    },
    {
      "cell_type": "code",
      "metadata": {
        "colab": {
          "base_uri": "https://localhost:8080/"
        },
        "id": "DpcJK9IpgumG",
        "outputId": "6312661e-4fdd-467c-fc9d-2e00d1c964fb"
      },
      "source": [
        "from sklearn.metrics import confusion_matrix, classification_report\n",
        "\n",
        "print(classification_report(y_test, y_pred_list))"
      ],
      "execution_count": null,
      "outputs": [
        {
          "name": "stdout",
          "output_type": "stream",
          "text": [
            "              precision    recall  f1-score   support\n",
            "\n",
            "           0       1.00      0.76      0.86      9549\n",
            "           1       0.27      0.51      0.35      2249\n",
            "           2       0.26      0.55      0.36      2410\n",
            "           3       0.86      0.53      0.66      6146\n",
            "\n",
            "    accuracy                           0.64     20354\n",
            "   macro avg       0.60      0.59      0.56     20354\n",
            "weighted avg       0.79      0.64      0.68     20354\n",
            "\n"
          ]
        }
      ]
    },
    {
      "cell_type": "markdown",
      "metadata": {
        "id": "vCx7Hud4wEAc"
      },
      "source": [
        "## Part 3: Performance Conclusion"
      ]
    },
    {
      "cell_type": "markdown",
      "metadata": {
        "id": "bro8JMw_wJ6m"
      },
      "source": [
        "For Testing Accuracy: \n",
        "**XgBoost > Neural Network > Logistic Regression > Multinomial Naive Bayes > Passive Aggressive Classifier.**"
      ]
    }
  ]
}